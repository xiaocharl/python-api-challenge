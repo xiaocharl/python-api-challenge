{
 "cells": [
  {
   "cell_type": "markdown",
   "metadata": {},
   "source": [
    "# WeatherPy\n",
    "----\n",
    "\n",
    "#### Note\n",
    "* Instructions have been included for each segment. You do not have to follow them exactly, but they are included to help you think through the steps."
   ]
  },
  {
   "cell_type": "code",
   "execution_count": 70,
   "metadata": {
    "scrolled": true
   },
   "outputs": [],
   "source": [
    "# Dependencies and Setup\n",
    "import matplotlib.pyplot as plt\n",
    "import pandas as pd\n",
    "import numpy as np\n",
    "import requests\n",
    "import time\n",
    "from scipy.stats import linregress\n",
    "import scipy.stats as st\n",
    "# Import API key\n",
    "from api_keys import weather_api_key\n",
    "\n",
    "# Incorporated citipy to determine city based on latitude and longitude\n",
    "from citipy import citipy\n",
    "\n",
    "# Output File (CSV)\n",
    "output_data_file = \"output_data/cities.csv\"\n",
    "\n",
    "# Range of latitudes and longitudes\n",
    "lat_range = (-90, 90)\n",
    "lng_range = (-180, 180)"
   ]
  },
  {
   "cell_type": "markdown",
   "metadata": {},
   "source": [
    "## Generate Cities List"
   ]
  },
  {
   "cell_type": "code",
   "execution_count": 17,
   "metadata": {},
   "outputs": [
    {
     "data": {
      "text/plain": [
       "612"
      ]
     },
     "execution_count": 17,
     "metadata": {},
     "output_type": "execute_result"
    }
   ],
   "source": [
    "# List for holding lat_lngs and cities\n",
    "lat_lngs = []\n",
    "cities = []\n",
    "\n",
    "# Create a set of random lat and lng combinations\n",
    "lats = np.random.uniform(lat_range[0], lat_range[1], size=1500)\n",
    "lngs = np.random.uniform(lng_range[0], lng_range[1], size=1500)\n",
    "lat_lngs = zip(lats, lngs)\n",
    "\n",
    "# Identify nearest city for each lat, lng combination\n",
    "for lat_lng in lat_lngs:\n",
    "    city = citipy.nearest_city(lat_lng[0], lat_lng[1]).city_name\n",
    "    \n",
    "    # If the city is unique, then add it to a our cities list\n",
    "    if city not in cities:\n",
    "        cities.append(city)\n",
    "\n",
    "# Print the city count to confirm sufficient count\n",
    "len(cities)"
   ]
  },
  {
   "cell_type": "markdown",
   "metadata": {},
   "source": [
    "### Perform API Calls\n",
    "* Perform a weather check on each city using a series of successive API calls.\n",
    "* Include a print log of each city as it'sbeing processed (with the city number and city name).\n"
   ]
  },
  {
   "cell_type": "code",
   "execution_count": 39,
   "metadata": {
    "scrolled": true
   },
   "outputs": [
    {
     "name": "stdout",
     "output_type": "stream",
     "text": [
      "Processing Record1of612|hithadhoo\n",
      "Processing Record2of612|victoria\n",
      "Processing Record3of612|punta arenas\n",
      "Processing Record4of612|turuvekere\n",
      "Processing Record5of612|thinadhoo\n",
      "Processing Record6of612|lorengau\n",
      "Processing Record7of612|jamestown\n",
      "Processing Record8of612|berlevag\n",
      "Processing Record9of612|busselton\n",
      "Processing Record10of612|albany\n",
      "Processing Record11of612|saskylakh\n",
      "Processing Record12of612|kamenskoye\n",
      "City not found. Skipping...\n",
      "Processing Record13of612|kahului\n",
      "Processing Record14of612|margate\n",
      "Processing Record15of612|hobart\n",
      "Processing Record16of612|westport\n",
      "Processing Record17of612|puerto colombia\n",
      "Processing Record18of612|geraldton\n",
      "Processing Record19of612|svetlyy\n",
      "Processing Record20of612|asau\n",
      "Processing Record21of612|lompoc\n",
      "Processing Record22of612|ushuaia\n",
      "Processing Record23of612|cape town\n",
      "Processing Record24of612|collie\n",
      "Processing Record25of612|saldanha\n",
      "Processing Record26of612|kalemie\n",
      "Processing Record27of612|saint-philippe\n",
      "Processing Record28of612|thompson\n",
      "Processing Record29of612|karakendzha\n",
      "City not found. Skipping...\n",
      "Processing Record30of612|jipijapa\n",
      "Processing Record31of612|illoqqortoormiut\n",
      "City not found. Skipping...\n",
      "Processing Record32of612|hermanus\n",
      "Processing Record33of612|khatanga\n",
      "Processing Record34of612|paita\n",
      "Processing Record35of612|port macquarie\n",
      "Processing Record36of612|sitka\n",
      "Processing Record37of612|acapulco\n",
      "Processing Record38of612|souillac\n",
      "Processing Record39of612|kapaa\n",
      "Processing Record40of612|karratha\n",
      "Processing Record41of612|atuona\n",
      "Processing Record42of612|bluff\n",
      "Processing Record43of612|tasiilaq\n",
      "Processing Record44of612|tuatapere\n",
      "Processing Record45of612|mataura\n",
      "Processing Record46of612|komsomolskiy\n",
      "Processing Record47of612|castro\n",
      "Processing Record48of612|san cristobal\n",
      "Processing Record49of612|dwarka\n",
      "Processing Record50of612|tsihombe\n",
      "City not found. Skipping...\n",
      "Processing Record51of612|grand river south east\n",
      "City not found. Skipping...\n",
      "Processing Record52of612|samarai\n",
      "Processing Record53of612|lebu\n",
      "Processing Record54of612|chernyshevskiy\n",
      "Processing Record55of612|kenai\n",
      "Processing Record56of612|sile\n",
      "Processing Record57of612|jardim\n",
      "Processing Record58of612|chachapoyas\n",
      "Processing Record59of612|arinos\n",
      "Processing Record60of612|vaini\n",
      "Processing Record61of612|kodiak\n",
      "Processing Record62of612|dikson\n",
      "Processing Record63of612|manzhouli\n",
      "Processing Record64of612|grand-santi\n",
      "Processing Record65of612|jaisinghnagar\n",
      "Processing Record66of612|boa vista\n",
      "Processing Record67of612|houma\n",
      "Processing Record68of612|pangai\n",
      "Processing Record69of612|kombissiri\n",
      "Processing Record70of612|ribeira grande\n",
      "Processing Record71of612|erzin\n",
      "Processing Record72of612|bambous virieux\n",
      "Processing Record73of612|kaitangata\n",
      "Processing Record74of612|chuy\n",
      "Processing Record75of612|ixtapa\n",
      "Processing Record76of612|yellowknife\n",
      "Processing Record77of612|healdsburg\n",
      "Processing Record78of612|ondorhaan\n",
      "City not found. Skipping...\n",
      "Processing Record79of612|barrow\n",
      "Processing Record80of612|puerto ayora\n",
      "Processing Record81of612|georgetown\n",
      "Processing Record82of612|portland\n",
      "Processing Record83of612|at-bashi\n",
      "Processing Record84of612|rikitea\n",
      "Processing Record85of612|husavik\n",
      "Processing Record86of612|bredasdorp\n",
      "Processing Record87of612|kruisfontein\n",
      "Processing Record88of612|hualmay\n",
      "Processing Record89of612|bengkulu\n",
      "Processing Record90of612|qaqortoq\n",
      "Processing Record91of612|ternate\n",
      "Processing Record92of612|khonuu\n",
      "City not found. Skipping...\n",
      "Processing Record93of612|comodoro rivadavia\n",
      "Processing Record94of612|sinnamary\n",
      "Processing Record95of612|cap-aux-meules\n",
      "Processing Record96of612|saint george\n",
      "Processing Record97of612|golyshmanovo\n",
      "Processing Record98of612|khor\n",
      "Processing Record99of612|san patricio\n",
      "Processing Record100of612|mekhe\n",
      "Processing Record101of612|kadykchan\n",
      "City not found. Skipping...\n",
      "Processing Record102of612|lavrentiya\n",
      "Processing Record103of612|deputatskiy\n",
      "Processing Record104of612|fairbanks\n",
      "Processing Record105of612|najran\n",
      "Processing Record106of612|pueblo nuevo\n",
      "Processing Record107of612|hasaki\n",
      "Processing Record108of612|qaanaaq\n",
      "Processing Record109of612|port elizabeth\n",
      "Processing Record110of612|tornio\n",
      "Processing Record111of612|gorno-chuyskiy\n",
      "City not found. Skipping...\n",
      "Processing Record112of612|airai\n",
      "Processing Record113of612|yagoua\n",
      "Processing Record114of612|pringsewu\n",
      "Processing Record115of612|benguela\n",
      "Processing Record116of612|moranbah\n",
      "Processing Record117of612|hilo\n",
      "Processing Record118of612|olinda\n",
      "Processing Record119of612|lata\n",
      "Processing Record120of612|inhambane\n",
      "Processing Record121of612|somerset west\n",
      "Processing Record122of612|new norfolk\n",
      "Processing Record123of612|matay\n",
      "Processing Record124of612|faanui\n",
      "Processing Record125of612|taolanaro\n",
      "City not found. Skipping...\n",
      "Processing Record126of612|sentyabrskiy\n",
      "City not found. Skipping...\n",
      "Processing Record127of612|mar del plata\n",
      "Processing Record128of612|hamilton\n",
      "Processing Record129of612|avarua\n",
      "Processing Record130of612|na klang\n",
      "Processing Record131of612|vila franca do campo\n",
      "Processing Record132of612|port alfred\n",
      "Processing Record133of612|shiraz\n",
      "Processing Record134of612|medicine hat\n",
      "Processing Record135of612|guerrero negro\n",
      "Processing Record136of612|saint-augustin\n",
      "Processing Record137of612|alice springs\n",
      "Processing Record138of612|arraial do cabo\n",
      "Processing Record139of612|okhotsk\n",
      "Processing Record140of612|savannah bight\n",
      "Processing Record141of612|klaksvik\n",
      "Processing Record142of612|itarema\n",
      "Processing Record143of612|cochrane\n",
      "Processing Record144of612|calama\n",
      "Processing Record145of612|sao joao da barra\n",
      "Processing Record146of612|east london\n",
      "Processing Record147of612|hofn\n",
      "Processing Record148of612|jiuquan\n",
      "Processing Record149of612|vila velha\n",
      "Processing Record150of612|los llanos de aridane\n",
      "Processing Record151of612|nyurba\n",
      "Processing Record152of612|acevedo\n",
      "Processing Record153of612|oktyabrskiy\n",
      "Processing Record154of612|norman wells\n",
      "Processing Record155of612|oranjestad\n",
      "Processing Record156of612|mys shmidta\n",
      "City not found. Skipping...\n",
      "Processing Record157of612|amderma\n",
      "City not found. Skipping...\n",
      "Processing Record158of612|nikolskoye\n",
      "Processing Record159of612|chokurdakh\n",
      "Processing Record160of612|san jose\n",
      "Processing Record161of612|codrington\n",
      "Processing Record162of612|cabo san lucas\n",
      "Processing Record163of612|taoudenni\n",
      "Processing Record164of612|binucayan\n",
      "Processing Record165of612|mitu\n",
      "Processing Record166of612|luderitz\n",
      "Processing Record167of612|sumenep\n",
      "Processing Record168of612|padang\n",
      "Processing Record169of612|mount gambier\n",
      "Processing Record170of612|port hedland\n",
      "Processing Record171of612|grand gaube\n",
      "Processing Record172of612|palmer\n",
      "Processing Record173of612|havre-saint-pierre\n",
      "Processing Record174of612|bacolod\n",
      "Processing Record175of612|carutapera\n",
      "Processing Record176of612|port blair\n",
      "Processing Record177of612|rach gia\n",
      "Processing Record178of612|narsaq\n",
      "Processing Record179of612|sangar\n",
      "Processing Record180of612|nouadhibou\n",
      "Processing Record181of612|southampton\n",
      "Processing Record182of612|caririacu\n",
      "Processing Record183of612|tsumeb\n",
      "Processing Record184of612|samusu\n",
      "City not found. Skipping...\n",
      "Processing Record185of612|machilipatnam\n",
      "Processing Record186of612|kalat\n",
      "Processing Record187of612|sao jose da coroa grande\n",
      "Processing Record188of612|dunmore town\n",
      "Processing Record189of612|reyes\n",
      "Processing Record190of612|carnarvon\n",
      "Processing Record191of612|caravelas\n",
      "Processing Record192of612|dickinson\n",
      "Processing Record193of612|zhigansk\n",
      "Processing Record194of612|kissamos\n",
      "Processing Record195of612|barentsburg\n",
      "City not found. Skipping...\n",
      "Processing Record196of612|attawapiskat\n",
      "City not found. Skipping...\n",
      "Processing Record197of612|kimbe\n",
      "Processing Record198of612|chicama\n",
      "Processing Record199of612|khoni\n",
      "Processing Record200of612|bardiyah\n",
      "Processing Record201of612|tezu\n",
      "Processing Record202of612|lodwar\n",
      "Processing Record203of612|ziarat\n",
      "Processing Record204of612|ruston\n",
      "Processing Record205of612|bathsheba\n",
      "Processing Record206of612|poya\n",
      "Processing Record207of612|heihe\n",
      "Processing Record208of612|maceio\n",
      "Processing Record209of612|ponta do sol\n",
      "Processing Record210of612|coihaique\n",
      "Processing Record211of612|kansanshi\n",
      "Processing Record212of612|yalvac\n",
      "Processing Record213of612|skvyra\n",
      "Processing Record214of612|vangaindrano\n",
      "Processing Record215of612|esperance\n",
      "Processing Record216of612|temaraia\n",
      "City not found. Skipping...\n",
      "Processing Record217of612|keningau\n",
      "Processing Record218of612|turukhansk\n",
      "Processing Record219of612|fevralsk\n",
      "City not found. Skipping...\n",
      "Processing Record220of612|kalmunai\n",
      "Processing Record221of612|sorvag\n",
      "City not found. Skipping...\n",
      "Processing Record222of612|wenling\n",
      "Processing Record223of612|bethel\n",
      "Processing Record224of612|fauresti\n",
      "Processing Record225of612|yumen\n",
      "Processing Record226of612|whitehorse\n",
      "Processing Record227of612|provideniya\n",
      "Processing Record228of612|muros\n",
      "Processing Record229of612|ulagan\n",
      "Processing Record230of612|cherskiy\n",
      "Processing Record231of612|aklavik\n",
      "Processing Record232of612|tual\n",
      "Processing Record233of612|katsuura\n",
      "Processing Record234of612|hwange\n",
      "Processing Record235of612|huazolotitlan\n",
      "City not found. Skipping...\n",
      "Processing Record236of612|diego de almagro\n",
      "Processing Record237of612|panguna\n",
      "Processing Record238of612|vardo\n",
      "Processing Record239of612|thunder bay\n",
      "Processing Record240of612|brae\n",
      "Processing Record241of612|bobcaygeon\n",
      "Processing Record242of612|clyde river\n",
      "Processing Record243of612|sechura\n",
      "Processing Record244of612|dicabisagan\n",
      "Processing Record245of612|tiksi\n",
      "Processing Record246of612|antofagasta\n",
      "Processing Record247of612|severo-kurilsk\n",
      "Processing Record248of612|cintalapa\n",
      "Processing Record249of612|san rafael\n",
      "Processing Record250of612|te anau\n",
      "Processing Record251of612|nantucket\n",
      "Processing Record252of612|mount isa\n",
      "Processing Record253of612|napanee\n",
      "Processing Record254of612|jatiroto\n",
      "Processing Record255of612|flinders\n",
      "Processing Record256of612|ouegoa\n",
      "Processing Record257of612|maraa\n",
      "Processing Record258of612|pathein\n",
      "Processing Record259of612|isangel\n",
      "Processing Record260of612|kieta\n",
      "Processing Record261of612|uyemskiy\n",
      "Processing Record262of612|talnakh\n",
      "Processing Record263of612|sri aman\n",
      "Processing Record264of612|lethem\n",
      "Processing Record265of612|fortuna\n",
      "Processing Record266of612|longyearbyen\n",
      "Processing Record267of612|tunxi\n",
      "City not found. Skipping...\n",
      "Processing Record268of612|champasak\n",
      "Processing Record269of612|bugulma\n",
      "Processing Record270of612|hobyo\n",
      "Processing Record271of612|jiangyou\n",
      "Processing Record272of612|chipata\n",
      "Processing Record273of612|maumere\n",
      "Processing Record274of612|port augusta\n",
      "Processing Record275of612|viloco\n",
      "Processing Record276of612|mao\n",
      "Processing Record277of612|ilulissat\n",
      "Processing Record278of612|sinazongwe\n",
      "Processing Record279of612|dobric\n",
      "Processing Record280of612|camapua\n",
      "Processing Record281of612|touros\n",
      "Processing Record282of612|mackay\n",
      "Processing Record283of612|hervey bay\n",
      "Processing Record284of612|knysna\n",
      "Processing Record285of612|kichmengskiy gorodok\n",
      "Processing Record286of612|cozumel\n",
      "Processing Record287of612|butaritari\n",
      "Processing Record288of612|lukiv\n",
      "Processing Record289of612|qandahar\n",
      "City not found. Skipping...\n",
      "Processing Record290of612|ngukurr\n",
      "City not found. Skipping...\n",
      "Processing Record291of612|filingue\n",
      "Processing Record292of612|calabozo\n",
      "Processing Record293of612|belushya guba\n",
      "City not found. Skipping...\n",
      "Processing Record294of612|gazanjyk\n",
      "Processing Record295of612|broome\n",
      "Processing Record296of612|san francisco\n",
      "Processing Record297of612|muyezerskiy\n",
      "Processing Record298of612|pimentel\n",
      "Processing Record299of612|faya\n",
      "Processing Record300of612|yongzhou\n",
      "Processing Record301of612|formosa do rio preto\n",
      "Processing Record302of612|san quintin\n",
      "Processing Record303of612|tilichiki\n",
      "Processing Record304of612|logrono\n",
      "Processing Record305of612|grindavik\n",
      "Processing Record306of612|talakan\n",
      "Processing Record307of612|marcona\n",
      "City not found. Skipping...\n",
      "Processing Record308of612|roald\n",
      "Processing Record309of612|nizhneyansk\n",
      "City not found. Skipping...\n",
      "Processing Record310of612|ahipara\n",
      "Processing Record311of612|tautira\n",
      "Processing Record312of612|leningradskiy\n",
      "Processing Record313of612|melo\n",
      "Processing Record314of612|praia da vitoria\n",
      "Processing Record315of612|port-de-paix\n",
      "City not found. Skipping...\n",
      "Processing Record316of612|kristiansund\n",
      "Processing Record317of612|blacklick estates\n",
      "Processing Record318of612|roma\n",
      "Processing Record319of612|half moon bay\n",
      "Processing Record320of612|presidencia roque saenz pena\n",
      "Processing Record321of612|cidreira\n",
      "Processing Record322of612|ovruch\n",
      "Processing Record323of612|kavieng\n",
      "Processing Record324of612|srednekolymsk\n",
      "Processing Record325of612|tuktoyaktuk\n",
      "Processing Record326of612|eydhafushi\n",
      "Processing Record327of612|eirunepe\n",
      "Processing Record328of612|kanniyakumari\n",
      "Processing Record329of612|oussouye\n",
      "Processing Record330of612|palabuhanratu\n",
      "City not found. Skipping...\n",
      "Processing Record331of612|zhanatas\n",
      "City not found. Skipping...\n",
      "Processing Record332of612|sindor\n",
      "Processing Record333of612|lannion\n",
      "Processing Record334of612|george\n",
      "Processing Record335of612|general roca\n",
      "Processing Record336of612|yar-sale\n",
      "Processing Record337of612|karaton\n",
      "Processing Record338of612|opuwo\n",
      "Processing Record339of612|wawa\n",
      "Processing Record340of612|sochi\n",
      "Processing Record341of612|windhoek\n",
      "Processing Record342of612|cairns\n",
      "Processing Record343of612|ahraura\n",
      "Processing Record344of612|guangyuan\n",
      "Processing Record345of612|nguiu\n",
      "City not found. Skipping...\n",
      "Processing Record346of612|meulaboh\n",
      "Processing Record347of612|disna\n",
      "Processing Record348of612|vaitupu\n",
      "City not found. Skipping...\n",
      "Processing Record349of612|almaty\n",
      "Processing Record350of612|mindelo\n",
      "Processing Record351of612|bowen\n",
      "Processing Record352of612|honiara\n",
      "Processing Record353of612|baie-comeau\n",
      "Processing Record354of612|trois-rivieres\n",
      "Processing Record355of612|bahia blanca\n",
      "Processing Record356of612|virginia beach\n",
      "Processing Record357of612|sao filipe\n",
      "Processing Record358of612|salalah\n",
      "Processing Record359of612|mahebourg\n",
      "Processing Record360of612|norsup\n",
      "Processing Record361of612|jacareacanga\n",
      "Processing Record362of612|tessalit\n",
      "Processing Record363of612|morgan city\n",
      "Processing Record364of612|tagusao\n",
      "Processing Record365of612|conneaut\n",
      "Processing Record366of612|ambon\n",
      "Processing Record367of612|panzhihua\n",
      "Processing Record368of612|kysyl-syr\n",
      "Processing Record369of612|port lincoln\n",
      "Processing Record370of612|aden\n",
      "Processing Record371of612|abu samrah\n",
      "Processing Record372of612|naze\n",
      "Processing Record373of612|killybegs\n",
      "Processing Record374of612|upernavik\n",
      "Processing Record375of612|saleaula\n",
      "City not found. Skipping...\n",
      "Processing Record376of612|aripuana\n",
      "Processing Record377of612|hayden\n",
      "Processing Record378of612|chapais\n",
      "Processing Record379of612|dunayivtsi\n",
      "City not found. Skipping...\n",
      "Processing Record380of612|vanimo\n",
      "Processing Record381of612|simpang empat\n",
      "Processing Record382of612|myitkyina\n",
      "Processing Record383of612|kushiro\n",
      "Processing Record384of612|valdivia\n",
      "Processing Record385of612|namatanai\n",
      "Processing Record386of612|bilibino\n",
      "Processing Record387of612|hambantota\n",
      "Processing Record388of612|gulshat\n",
      "City not found. Skipping...\n",
      "Processing Record389of612|les cayes\n",
      "Processing Record390of612|coquimbo\n",
      "Processing Record391of612|mayo\n",
      "Processing Record392of612|sovetskiy\n",
      "Processing Record393of612|tiarei\n",
      "Processing Record394of612|valjala\n",
      "City not found. Skipping...\n",
      "Processing Record395of612|marsa matruh\n",
      "Processing Record396of612|villa maria\n",
      "Processing Record397of612|tumannyy\n",
      "City not found. Skipping...\n",
      "Processing Record398of612|shestakovo\n",
      "Processing Record399of612|luanda\n",
      "Processing Record400of612|carlibaba\n",
      "Processing Record401of612|bubaque\n",
      "Processing Record402of612|floro\n",
      "Processing Record403of612|cerritos\n",
      "Processing Record404of612|kirundo\n",
      "Processing Record405of612|pangnirtung\n",
      "Processing Record406of612|kindu\n",
      "Processing Record407of612|laguna\n",
      "Processing Record408of612|ferrol\n",
      "Processing Record409of612|kavaratti\n",
      "Processing Record410of612|inhuma\n",
      "Processing Record411of612|coracao de jesus\n",
      "Processing Record412of612|sobolevo\n",
      "Processing Record413of612|innisfail\n",
      "Processing Record414of612|pevek\n",
      "Processing Record415of612|rafsanjan\n",
      "Processing Record416of612|tunduru\n",
      "City not found. Skipping...\n",
      "Processing Record417of612|san felipe\n",
      "Processing Record418of612|campbell river\n",
      "Processing Record419of612|balabac\n",
      "Processing Record420of612|nerchinskiy zavod\n",
      "Processing Record421of612|balad\n",
      "Processing Record422of612|gat\n",
      "Processing Record423of612|rocha\n",
      "Processing Record424of612|marovoay\n",
      "Processing Record425of612|umm lajj\n",
      "Processing Record426of612|avera\n",
      "Processing Record427of612|kasongo-lunda\n",
      "Processing Record428of612|imbituba\n",
      "Processing Record429of612|guajara\n",
      "Processing Record430of612|ampanihy\n",
      "Processing Record431of612|kazachinskoye\n",
      "Processing Record432of612|torbay\n",
      "Processing Record433of612|port-gentil\n",
      "Processing Record434of612|eureka\n",
      "Processing Record435of612|birao\n",
      "Processing Record436of612|farah\n",
      "Processing Record437of612|kachug\n",
      "Processing Record438of612|biu\n",
      "Processing Record439of612|escanaba\n",
      "Processing Record440of612|xiongzhou\n",
      "Processing Record441of612|mendahara\n",
      "City not found. Skipping...\n",
      "Processing Record442of612|san rafael del sur\n",
      "Processing Record443of612|todos santos\n",
      "Processing Record444of612|gore\n",
      "Processing Record445of612|tuskegee\n",
      "Processing Record446of612|warqla\n",
      "City not found. Skipping...\n",
      "Processing Record447of612|plettenberg bay\n",
      "Processing Record448of612|cayenne\n",
      "Processing Record449of612|podporozhye\n",
      "Processing Record450of612|lagoa\n",
      "Processing Record451of612|dakar\n",
      "Processing Record452of612|gander\n",
      "Processing Record453of612|yulara\n",
      "Processing Record454of612|oranjemund\n",
      "Processing Record455of612|eyl\n",
      "Processing Record456of612|zavoronezhskoye\n",
      "Processing Record457of612|dingle\n",
      "Processing Record458of612|mattru\n",
      "Processing Record459of612|port hardy\n",
      "Processing Record460of612|flin flon\n",
      "Processing Record461of612|seydi\n",
      "Processing Record462of612|anori\n",
      "Processing Record463of612|santa vitoria do palmar\n",
      "Processing Record464of612|tura\n",
      "Processing Record465of612|sycow\n",
      "Processing Record466of612|alexandria\n",
      "Processing Record467of612|chipinge\n",
      "Processing Record468of612|baykit\n",
      "Processing Record469of612|maniitsoq\n",
      "Processing Record470of612|buqayq\n",
      "City not found. Skipping...\n",
      "Processing Record471of612|yantongshan\n",
      "Processing Record472of612|milkovo\n",
      "Processing Record473of612|nome\n",
      "Processing Record474of612|umm durman\n",
      "City not found. Skipping...\n",
      "Processing Record475of612|lazarev\n",
      "Processing Record476of612|marfino\n",
      "Processing Record477of612|mlowo\n",
      "Processing Record478of612|matamoros\n",
      "Processing Record479of612|sagaing\n",
      "Processing Record480of612|kalabo\n",
      "Processing Record481of612|dongsheng\n",
      "Processing Record482of612|huilong\n",
      "Processing Record483of612|hastings\n",
      "Processing Record484of612|ilebo\n",
      "Processing Record485of612|kangaatsiaq\n",
      "Processing Record486of612|chitungwiza\n",
      "Processing Record487of612|safaqis\n",
      "City not found. Skipping...\n",
      "Processing Record488of612|nanortalik\n",
      "Processing Record489of612|high level\n",
      "Processing Record490of612|san vicente\n",
      "Processing Record491of612|adre\n",
      "Processing Record492of612|roebourne\n",
      "Processing Record493of612|coos bay\n",
      "Processing Record494of612|srivardhan\n",
      "Processing Record495of612|acarau\n",
      "Processing Record496of612|storm lake\n",
      "Processing Record497of612|cap malheureux\n",
      "Processing Record498of612|orotukan\n",
      "Processing Record499of612|kailua\n",
      "Processing Record500of612|ponta delgada\n",
      "Processing Record501of612|kem\n",
      "Processing Record502of612|haines junction\n",
      "Processing Record503of612|tondon\n",
      "Processing Record504of612|ulaangom\n",
      "Processing Record505of612|durant\n",
      "Processing Record506of612|bac lieu\n",
      "Processing Record507of612|gueret\n",
      "Processing Record508of612|viedma\n",
      "Processing Record509of612|sanok\n",
      "Processing Record510of612|pahrump\n",
      "Processing Record511of612|kirovskiy\n",
      "Processing Record512of612|rancho veloz\n",
      "Processing Record513of612|tari\n",
      "Processing Record514of612|morshansk\n",
      "Processing Record515of612|khawhai\n",
      "Processing Record516of612|san juan\n",
      "Processing Record517of612|haapiti\n",
      "Processing Record518of612|chake chake\n",
      "Processing Record519of612|crixas\n",
      "Processing Record520of612|oriximina\n",
      "Processing Record521of612|koslan\n",
      "Processing Record522of612|noumea\n",
      "Processing Record523of612|barao de melgaco\n",
      "Processing Record524of612|yelbarga\n",
      "Processing Record525of612|mayumba\n",
      "Processing Record526of612|san carlos de bariloche\n",
      "Processing Record527of612|kolokani\n",
      "Processing Record528of612|san angelo\n",
      "Processing Record529of612|pechenga\n",
      "Processing Record530of612|saint-georges\n",
      "Processing Record531of612|basoko\n",
      "Processing Record532of612|medea\n",
      "Processing Record533of612|mashivka\n",
      "Processing Record534of612|saint anthony\n",
      "Processing Record535of612|eforie\n",
      "City not found. Skipping...\n",
      "Processing Record536of612|skjervoy\n",
      "Processing Record537of612|tshikapa\n",
      "Processing Record538of612|dongkan\n",
      "Processing Record539of612|quelimane\n",
      "Processing Record540of612|mersing\n",
      "Processing Record541of612|balkhash\n",
      "Processing Record542of612|kloulklubed\n",
      "Processing Record543of612|ryazhsk\n",
      "Processing Record544of612|bukachacha\n",
      "Processing Record545of612|ribeira brava\n",
      "Processing Record546of612|takoradi\n",
      "Processing Record547of612|salas\n",
      "Processing Record548of612|mecca\n",
      "Processing Record549of612|fort nelson\n",
      "Processing Record550of612|mnogovershinnyy\n",
      "Processing Record551of612|mogadishu\n",
      "Processing Record552of612|grand-lahou\n",
      "Processing Record553of612|vila do maio\n",
      "Processing Record554of612|victoria point\n",
      "Processing Record555of612|havoysund\n",
      "Processing Record556of612|lososina\n",
      "Processing Record557of612|frontera\n",
      "Processing Record558of612|kouqian\n",
      "Processing Record559of612|sfantu gheorghe\n",
      "Processing Record560of612|coalcoman\n",
      "City not found. Skipping...\n",
      "Processing Record561of612|grand centre\n",
      "City not found. Skipping...\n",
      "Processing Record562of612|ovada\n",
      "Processing Record563of612|kitimat\n",
      "Processing Record564of612|sharjah\n",
      "Processing Record565of612|kemijarvi\n",
      "Processing Record566of612|pundaguitan\n",
      "Processing Record567of612|nibong tebal\n",
      "Processing Record568of612|delmas\n",
      "Processing Record569of612|khandyga\n",
      "Processing Record570of612|road town\n",
      "Processing Record571of612|solnechnyy\n",
      "Processing Record572of612|atikokan\n",
      "Processing Record573of612|olafsvik\n",
      "Processing Record574of612|mlonggo\n",
      "Processing Record575of612|brooks\n",
      "Processing Record576of612|inirida\n",
      "Processing Record577of612|toyooka\n",
      "Processing Record578of612|yanchukan\n",
      "City not found. Skipping...\n",
      "Processing Record579of612|carlisle\n",
      "Processing Record580of612|williston\n",
      "Processing Record581of612|wahpeton\n",
      "Processing Record582of612|colquiri\n",
      "Processing Record583of612|changde\n",
      "Processing Record584of612|summerland\n",
      "Processing Record585of612|shawnee\n",
      "Processing Record586of612|beloha\n",
      "Processing Record587of612|kirakira\n",
      "Processing Record588of612|bijar\n",
      "Processing Record589of612|richards bay\n",
      "Processing Record590of612|sur\n",
      "Processing Record591of612|kamariotissa\n",
      "Processing Record592of612|kijang\n",
      "Processing Record593of612|nemuro\n",
      "Processing Record594of612|menongue\n",
      "Processing Record595of612|samalaeulu\n",
      "City not found. Skipping...\n",
      "Processing Record596of612|huangnihe\n",
      "Processing Record597of612|jieshi\n",
      "Processing Record598of612|niteroi\n",
      "Processing Record599of612|dehra dun\n",
      "Processing Record600of612|jabiru\n",
      "City not found. Skipping...\n",
      "Processing Record601of612|tanete\n",
      "Processing Record602of612|mazara del vallo\n",
      "Processing Record603of612|namibe\n",
      "Processing Record604of612|sabang\n",
      "Processing Record605of612|jasper\n",
      "Processing Record606of612|egvekinot\n",
      "Processing Record607of612|aykhal\n",
      "Processing Record608of612|nioro\n",
      "Processing Record609of612|cockburn town\n",
      "Processing Record610of612|kaptanganj\n",
      "Processing Record611of612|umzimvubu\n",
      "City not found. Skipping...\n",
      "Processing Record612of612|garhi khairo\n",
      "Data Retrieval Complete\n"
     ]
    }
   ],
   "source": [
    "# Get weather data\n",
    "url = \"http://api.openweathermap.org/data/2.5/weather?\"\n",
    "units = \"imperial\"\n",
    "count = 1\n",
    "cities_weather = []\n",
    "\n",
    "for city in cities:\n",
    "    final_url = f\"{url}&appid={weather_api_key}&q={city}&units={units}\"\n",
    "\n",
    "     # Increase counter by one \n",
    "    \n",
    "    print(\"Processing Record\"+str(count)+\"of\"+str(len(cities))+\"|\"+city)\n",
    "\n",
    "\n",
    "    \n",
    "\n",
    "    try:\n",
    "        response = requests.get(final_url).json()\n",
    "        cities_weather.append({'City':city,\n",
    "                               'Lat':response['coord']['lat'],\n",
    "                               'Lng':response['coord']['lon'],\n",
    "                               'Max Temp':response['main']['temp_max'],\n",
    "                               'Humidity':response['main']['humidity'],\n",
    "                               'Cloudiness':response['clouds']['all'],\n",
    "                               'Wind Speed':response['wind']['speed'],\n",
    "                               'Country':response['sys']['country'],\n",
    "                               'Date':response['dt']})\n",
    "    except:\n",
    "        print('City not found. Skipping...')\n",
    "        pass\n",
    "    count=count+1  \n",
    "    \n",
    "\n",
    "print('Data Retrieval Complete')      \n"
   ]
  },
  {
   "cell_type": "code",
   "execution_count": 40,
   "metadata": {},
   "outputs": [
    {
     "data": {
      "text/html": [
       "<div>\n",
       "<style scoped>\n",
       "    .dataframe tbody tr th:only-of-type {\n",
       "        vertical-align: middle;\n",
       "    }\n",
       "\n",
       "    .dataframe tbody tr th {\n",
       "        vertical-align: top;\n",
       "    }\n",
       "\n",
       "    .dataframe thead th {\n",
       "        text-align: right;\n",
       "    }\n",
       "</style>\n",
       "<table border=\"1\" class=\"dataframe\">\n",
       "  <thead>\n",
       "    <tr style=\"text-align: right;\">\n",
       "      <th></th>\n",
       "      <th>City</th>\n",
       "      <th>Lat</th>\n",
       "      <th>Lng</th>\n",
       "      <th>Max Temp</th>\n",
       "      <th>Humidity</th>\n",
       "      <th>Cloudiness</th>\n",
       "      <th>Wind Speed</th>\n",
       "      <th>Country</th>\n",
       "      <th>Date</th>\n",
       "    </tr>\n",
       "  </thead>\n",
       "  <tbody>\n",
       "    <tr>\n",
       "      <th>0</th>\n",
       "      <td>hithadhoo</td>\n",
       "      <td>-0.6000</td>\n",
       "      <td>73.0833</td>\n",
       "      <td>84.06</td>\n",
       "      <td>71</td>\n",
       "      <td>100</td>\n",
       "      <td>12.39</td>\n",
       "      <td>MV</td>\n",
       "      <td>1624279984</td>\n",
       "    </tr>\n",
       "    <tr>\n",
       "      <th>1</th>\n",
       "      <td>victoria</td>\n",
       "      <td>22.2855</td>\n",
       "      <td>114.1577</td>\n",
       "      <td>87.85</td>\n",
       "      <td>82</td>\n",
       "      <td>100</td>\n",
       "      <td>1.01</td>\n",
       "      <td>HK</td>\n",
       "      <td>1624279984</td>\n",
       "    </tr>\n",
       "    <tr>\n",
       "      <th>2</th>\n",
       "      <td>punta arenas</td>\n",
       "      <td>-53.1500</td>\n",
       "      <td>-70.9167</td>\n",
       "      <td>39.31</td>\n",
       "      <td>81</td>\n",
       "      <td>90</td>\n",
       "      <td>8.05</td>\n",
       "      <td>CL</td>\n",
       "      <td>1624279963</td>\n",
       "    </tr>\n",
       "    <tr>\n",
       "      <th>3</th>\n",
       "      <td>turuvekere</td>\n",
       "      <td>13.1642</td>\n",
       "      <td>76.6667</td>\n",
       "      <td>80.89</td>\n",
       "      <td>52</td>\n",
       "      <td>100</td>\n",
       "      <td>13.27</td>\n",
       "      <td>IN</td>\n",
       "      <td>1624279986</td>\n",
       "    </tr>\n",
       "    <tr>\n",
       "      <th>4</th>\n",
       "      <td>thinadhoo</td>\n",
       "      <td>0.5333</td>\n",
       "      <td>72.9333</td>\n",
       "      <td>83.97</td>\n",
       "      <td>71</td>\n",
       "      <td>100</td>\n",
       "      <td>13.11</td>\n",
       "      <td>MV</td>\n",
       "      <td>1624279986</td>\n",
       "    </tr>\n",
       "  </tbody>\n",
       "</table>\n",
       "</div>"
      ],
      "text/plain": [
       "           City      Lat       Lng  Max Temp  Humidity  Cloudiness  \\\n",
       "0     hithadhoo  -0.6000   73.0833     84.06        71         100   \n",
       "1      victoria  22.2855  114.1577     87.85        82         100   \n",
       "2  punta arenas -53.1500  -70.9167     39.31        81          90   \n",
       "3    turuvekere  13.1642   76.6667     80.89        52         100   \n",
       "4     thinadhoo   0.5333   72.9333     83.97        71         100   \n",
       "\n",
       "   Wind Speed Country        Date  \n",
       "0       12.39      MV  1624279984  \n",
       "1        1.01      HK  1624279984  \n",
       "2        8.05      CL  1624279963  \n",
       "3       13.27      IN  1624279986  \n",
       "4       13.11      MV  1624279986  "
      ]
     },
     "execution_count": 40,
     "metadata": {},
     "output_type": "execute_result"
    }
   ],
   "source": [
    "cities_weather_df = pd.DataFrame(cities_weather)\n",
    "cities_weather_df.head()"
   ]
  },
  {
   "cell_type": "markdown",
   "metadata": {},
   "source": [
    "### Convert Raw Data to DataFrame\n",
    "* Export the city data into a .csv.\n",
    "* Display the DataFrame"
   ]
  },
  {
   "cell_type": "code",
   "execution_count": 52,
   "metadata": {},
   "outputs": [],
   "source": [
    "cities_weather_df.to_csv(output_data_file)"
   ]
  },
  {
   "cell_type": "code",
   "execution_count": 16,
   "metadata": {},
   "outputs": [
    {
     "data": {
      "text/html": [
       "<div>\n",
       "<style scoped>\n",
       "    .dataframe tbody tr th:only-of-type {\n",
       "        vertical-align: middle;\n",
       "    }\n",
       "\n",
       "    .dataframe tbody tr th {\n",
       "        vertical-align: top;\n",
       "    }\n",
       "\n",
       "    .dataframe thead th {\n",
       "        text-align: right;\n",
       "    }\n",
       "</style>\n",
       "<table border=\"1\" class=\"dataframe\">\n",
       "  <thead>\n",
       "    <tr style=\"text-align: right;\">\n",
       "      <th></th>\n",
       "      <th>Lat</th>\n",
       "      <th>Lng</th>\n",
       "      <th>Max Temp</th>\n",
       "      <th>Humidity</th>\n",
       "      <th>Cloudiness</th>\n",
       "      <th>Wind Speed</th>\n",
       "      <th>Date</th>\n",
       "    </tr>\n",
       "  </thead>\n",
       "  <tbody>\n",
       "    <tr>\n",
       "      <td>count</td>\n",
       "      <td>599.000000</td>\n",
       "      <td>599.000000</td>\n",
       "      <td>599.000000</td>\n",
       "      <td>599.000000</td>\n",
       "      <td>599.000000</td>\n",
       "      <td>599.000000</td>\n",
       "      <td>5.990000e+02</td>\n",
       "    </tr>\n",
       "    <tr>\n",
       "      <td>mean</td>\n",
       "      <td>19.877028</td>\n",
       "      <td>19.568998</td>\n",
       "      <td>69.794808</td>\n",
       "      <td>69.353923</td>\n",
       "      <td>51.569282</td>\n",
       "      <td>7.979416</td>\n",
       "      <td>1.593605e+09</td>\n",
       "    </tr>\n",
       "    <tr>\n",
       "      <td>std</td>\n",
       "      <td>33.262944</td>\n",
       "      <td>91.418472</td>\n",
       "      <td>15.678452</td>\n",
       "      <td>22.704698</td>\n",
       "      <td>35.405602</td>\n",
       "      <td>5.660694</td>\n",
       "      <td>5.738815e+01</td>\n",
       "    </tr>\n",
       "    <tr>\n",
       "      <td>min</td>\n",
       "      <td>-54.800000</td>\n",
       "      <td>-179.170000</td>\n",
       "      <td>12.200000</td>\n",
       "      <td>7.000000</td>\n",
       "      <td>0.000000</td>\n",
       "      <td>0.360000</td>\n",
       "      <td>1.593605e+09</td>\n",
       "    </tr>\n",
       "    <tr>\n",
       "      <td>25%</td>\n",
       "      <td>-8.540000</td>\n",
       "      <td>-61.210000</td>\n",
       "      <td>59.000000</td>\n",
       "      <td>55.000000</td>\n",
       "      <td>20.000000</td>\n",
       "      <td>3.620000</td>\n",
       "      <td>1.593605e+09</td>\n",
       "    </tr>\n",
       "    <tr>\n",
       "      <td>50%</td>\n",
       "      <td>24.370000</td>\n",
       "      <td>24.670000</td>\n",
       "      <td>73.110000</td>\n",
       "      <td>75.000000</td>\n",
       "      <td>59.000000</td>\n",
       "      <td>6.730000</td>\n",
       "      <td>1.593605e+09</td>\n",
       "    </tr>\n",
       "    <tr>\n",
       "      <td>75%</td>\n",
       "      <td>46.585000</td>\n",
       "      <td>102.255000</td>\n",
       "      <td>80.600000</td>\n",
       "      <td>87.000000</td>\n",
       "      <td>85.000000</td>\n",
       "      <td>11.050000</td>\n",
       "      <td>1.593605e+09</td>\n",
       "    </tr>\n",
       "    <tr>\n",
       "      <td>max</td>\n",
       "      <td>78.220000</td>\n",
       "      <td>179.320000</td>\n",
       "      <td>116.600000</td>\n",
       "      <td>100.000000</td>\n",
       "      <td>100.000000</td>\n",
       "      <td>42.500000</td>\n",
       "      <td>1.593605e+09</td>\n",
       "    </tr>\n",
       "  </tbody>\n",
       "</table>\n",
       "</div>"
      ],
      "text/plain": [
       "              Lat         Lng    Max Temp    Humidity  Cloudiness  Wind Speed  \\\n",
       "count  599.000000  599.000000  599.000000  599.000000  599.000000  599.000000   \n",
       "mean    19.877028   19.568998   69.794808   69.353923   51.569282    7.979416   \n",
       "std     33.262944   91.418472   15.678452   22.704698   35.405602    5.660694   \n",
       "min    -54.800000 -179.170000   12.200000    7.000000    0.000000    0.360000   \n",
       "25%     -8.540000  -61.210000   59.000000   55.000000   20.000000    3.620000   \n",
       "50%     24.370000   24.670000   73.110000   75.000000   59.000000    6.730000   \n",
       "75%     46.585000  102.255000   80.600000   87.000000   85.000000   11.050000   \n",
       "max     78.220000  179.320000  116.600000  100.000000  100.000000   42.500000   \n",
       "\n",
       "               Date  \n",
       "count  5.990000e+02  \n",
       "mean   1.593605e+09  \n",
       "std    5.738815e+01  \n",
       "min    1.593605e+09  \n",
       "25%    1.593605e+09  \n",
       "50%    1.593605e+09  \n",
       "75%    1.593605e+09  \n",
       "max    1.593605e+09  "
      ]
     },
     "execution_count": 16,
     "metadata": {},
     "output_type": "execute_result"
    }
   ],
   "source": [
    "cities_weather_df.describe()"
   ]
  },
  {
   "cell_type": "code",
   "execution_count": 53,
   "metadata": {},
   "outputs": [
    {
     "data": {
      "text/html": [
       "<div>\n",
       "<style scoped>\n",
       "    .dataframe tbody tr th:only-of-type {\n",
       "        vertical-align: middle;\n",
       "    }\n",
       "\n",
       "    .dataframe tbody tr th {\n",
       "        vertical-align: top;\n",
       "    }\n",
       "\n",
       "    .dataframe thead th {\n",
       "        text-align: right;\n",
       "    }\n",
       "</style>\n",
       "<table border=\"1\" class=\"dataframe\">\n",
       "  <thead>\n",
       "    <tr style=\"text-align: right;\">\n",
       "      <th></th>\n",
       "      <th>City</th>\n",
       "      <th>Lat</th>\n",
       "      <th>Lng</th>\n",
       "      <th>Max Temp</th>\n",
       "      <th>Humidity</th>\n",
       "      <th>Cloudiness</th>\n",
       "      <th>Wind Speed</th>\n",
       "      <th>Country</th>\n",
       "      <th>Date</th>\n",
       "    </tr>\n",
       "  </thead>\n",
       "  <tbody>\n",
       "    <tr>\n",
       "      <th>0</th>\n",
       "      <td>hithadhoo</td>\n",
       "      <td>-0.6000</td>\n",
       "      <td>73.0833</td>\n",
       "      <td>84.06</td>\n",
       "      <td>71</td>\n",
       "      <td>100</td>\n",
       "      <td>12.39</td>\n",
       "      <td>MV</td>\n",
       "      <td>1624279984</td>\n",
       "    </tr>\n",
       "    <tr>\n",
       "      <th>1</th>\n",
       "      <td>victoria</td>\n",
       "      <td>22.2855</td>\n",
       "      <td>114.1577</td>\n",
       "      <td>87.85</td>\n",
       "      <td>82</td>\n",
       "      <td>100</td>\n",
       "      <td>1.01</td>\n",
       "      <td>HK</td>\n",
       "      <td>1624279984</td>\n",
       "    </tr>\n",
       "    <tr>\n",
       "      <th>2</th>\n",
       "      <td>punta arenas</td>\n",
       "      <td>-53.1500</td>\n",
       "      <td>-70.9167</td>\n",
       "      <td>39.31</td>\n",
       "      <td>81</td>\n",
       "      <td>90</td>\n",
       "      <td>8.05</td>\n",
       "      <td>CL</td>\n",
       "      <td>1624279963</td>\n",
       "    </tr>\n",
       "    <tr>\n",
       "      <th>3</th>\n",
       "      <td>turuvekere</td>\n",
       "      <td>13.1642</td>\n",
       "      <td>76.6667</td>\n",
       "      <td>80.89</td>\n",
       "      <td>52</td>\n",
       "      <td>100</td>\n",
       "      <td>13.27</td>\n",
       "      <td>IN</td>\n",
       "      <td>1624279986</td>\n",
       "    </tr>\n",
       "    <tr>\n",
       "      <th>4</th>\n",
       "      <td>thinadhoo</td>\n",
       "      <td>0.5333</td>\n",
       "      <td>72.9333</td>\n",
       "      <td>83.97</td>\n",
       "      <td>71</td>\n",
       "      <td>100</td>\n",
       "      <td>13.11</td>\n",
       "      <td>MV</td>\n",
       "      <td>1624279986</td>\n",
       "    </tr>\n",
       "  </tbody>\n",
       "</table>\n",
       "</div>"
      ],
      "text/plain": [
       "           City      Lat       Lng  Max Temp  Humidity  Cloudiness  \\\n",
       "0     hithadhoo  -0.6000   73.0833     84.06        71         100   \n",
       "1      victoria  22.2855  114.1577     87.85        82         100   \n",
       "2  punta arenas -53.1500  -70.9167     39.31        81          90   \n",
       "3    turuvekere  13.1642   76.6667     80.89        52         100   \n",
       "4     thinadhoo   0.5333   72.9333     83.97        71         100   \n",
       "\n",
       "   Wind Speed Country        Date  \n",
       "0       12.39      MV  1624279984  \n",
       "1        1.01      HK  1624279984  \n",
       "2        8.05      CL  1624279963  \n",
       "3       13.27      IN  1624279986  \n",
       "4       13.11      MV  1624279986  "
      ]
     },
     "execution_count": 53,
     "metadata": {},
     "output_type": "execute_result"
    }
   ],
   "source": [
    "cities_weather_df.head()"
   ]
  },
  {
   "cell_type": "markdown",
   "metadata": {},
   "source": [
    "## Inspect the data and remove the cities where the humidity > 100%.\n",
    "----\n",
    "Skip this step if there are no cities that have humidity > 100%. "
   ]
  },
  {
   "cell_type": "code",
   "execution_count": 55,
   "metadata": {},
   "outputs": [
    {
     "data": {
      "text/plain": [
       "array([ 71,  82,  81,  52,  79,  93,  76,  48,  80,  91,  90,  94,  84,\n",
       "        62,  53,  59,  46,  74,  75,  42,  49,  85,  83,  87,  89,  64,\n",
       "        78,  65,  14,  69,  54,  96,  67,  63,  88,  40, 100,  95,  70,\n",
       "        43,  73,  57,  97,  77,  35,  55,  19,  18,  21,  86,  32,  72,\n",
       "         6,  20,  27,  61,  28,  41,  12,  50,  99,  58,  51,  92,  68,\n",
       "        37,  23,  25,  26,  31,  66,  56,  13,  47,  29,  33,  60,  36,\n",
       "        44,  39,  24,   7,  16,  30,   5,  38,  98,  10,  34,  45],\n",
       "      dtype=int64)"
      ]
     },
     "execution_count": 55,
     "metadata": {},
     "output_type": "execute_result"
    }
   ],
   "source": [
    "cities_weather_df['Humidity'].unique()"
   ]
  },
  {
   "cell_type": "code",
   "execution_count": 17,
   "metadata": {},
   "outputs": [
    {
     "data": {
      "text/plain": [
       "Int64Index([], dtype='int64')"
      ]
     },
     "execution_count": 17,
     "metadata": {},
     "output_type": "execute_result"
    }
   ],
   "source": [
    "#  Get the indices of cities that have humidity over 100%.\n",
    "#seems no city have humidity over100%"
   ]
  },
  {
   "cell_type": "code",
   "execution_count": 19,
   "metadata": {},
   "outputs": [
    {
     "data": {
      "text/html": [
       "<div>\n",
       "<style scoped>\n",
       "    .dataframe tbody tr th:only-of-type {\n",
       "        vertical-align: middle;\n",
       "    }\n",
       "\n",
       "    .dataframe tbody tr th {\n",
       "        vertical-align: top;\n",
       "    }\n",
       "\n",
       "    .dataframe thead th {\n",
       "        text-align: right;\n",
       "    }\n",
       "</style>\n",
       "<table border=\"1\" class=\"dataframe\">\n",
       "  <thead>\n",
       "    <tr style=\"text-align: right;\">\n",
       "      <th></th>\n",
       "      <th>City</th>\n",
       "      <th>Lat</th>\n",
       "      <th>Lng</th>\n",
       "      <th>Max Temp</th>\n",
       "      <th>Humidity</th>\n",
       "      <th>Cloudiness</th>\n",
       "      <th>Wind Speed</th>\n",
       "      <th>Country</th>\n",
       "      <th>Date</th>\n",
       "    </tr>\n",
       "  </thead>\n",
       "  <tbody>\n",
       "    <tr>\n",
       "      <td>0</td>\n",
       "      <td>butaritari</td>\n",
       "      <td>3.07</td>\n",
       "      <td>172.79</td>\n",
       "      <td>83.32</td>\n",
       "      <td>74</td>\n",
       "      <td>84</td>\n",
       "      <td>10.42</td>\n",
       "      <td>KI</td>\n",
       "      <td>1593605283</td>\n",
       "    </tr>\n",
       "    <tr>\n",
       "      <td>1</td>\n",
       "      <td>yerbogachen</td>\n",
       "      <td>61.28</td>\n",
       "      <td>108.01</td>\n",
       "      <td>79.52</td>\n",
       "      <td>58</td>\n",
       "      <td>20</td>\n",
       "      <td>7.70</td>\n",
       "      <td>RU</td>\n",
       "      <td>1593605121</td>\n",
       "    </tr>\n",
       "    <tr>\n",
       "      <td>2</td>\n",
       "      <td>cape town</td>\n",
       "      <td>-33.93</td>\n",
       "      <td>18.42</td>\n",
       "      <td>73.00</td>\n",
       "      <td>77</td>\n",
       "      <td>27</td>\n",
       "      <td>4.70</td>\n",
       "      <td>ZA</td>\n",
       "      <td>1593605039</td>\n",
       "    </tr>\n",
       "    <tr>\n",
       "      <td>3</td>\n",
       "      <td>touba</td>\n",
       "      <td>8.28</td>\n",
       "      <td>-7.68</td>\n",
       "      <td>79.97</td>\n",
       "      <td>75</td>\n",
       "      <td>82</td>\n",
       "      <td>3.58</td>\n",
       "      <td>CI</td>\n",
       "      <td>1593605284</td>\n",
       "    </tr>\n",
       "    <tr>\n",
       "      <td>4</td>\n",
       "      <td>jamestown</td>\n",
       "      <td>42.10</td>\n",
       "      <td>-79.24</td>\n",
       "      <td>64.00</td>\n",
       "      <td>88</td>\n",
       "      <td>1</td>\n",
       "      <td>6.93</td>\n",
       "      <td>US</td>\n",
       "      <td>1593605284</td>\n",
       "    </tr>\n",
       "  </tbody>\n",
       "</table>\n",
       "</div>"
      ],
      "text/plain": [
       "          City    Lat     Lng  Max Temp  Humidity  Cloudiness  Wind Speed  \\\n",
       "0   butaritari   3.07  172.79     83.32        74          84       10.42   \n",
       "1  yerbogachen  61.28  108.01     79.52        58          20        7.70   \n",
       "2    cape town -33.93   18.42     73.00        77          27        4.70   \n",
       "3        touba   8.28   -7.68     79.97        75          82        3.58   \n",
       "4    jamestown  42.10  -79.24     64.00        88           1        6.93   \n",
       "\n",
       "  Country        Date  \n",
       "0      KI  1593605283  \n",
       "1      RU  1593605121  \n",
       "2      ZA  1593605039  \n",
       "3      CI  1593605284  \n",
       "4      US  1593605284  "
      ]
     },
     "execution_count": 19,
     "metadata": {},
     "output_type": "execute_result"
    }
   ],
   "source": [
    "# Make a new DataFrame equal to the city data to drop all humidity outliers by index.\n",
    "# Passing \"inplace=False\" will make a copy of the city_data DataFrame, which we call \"clean_city_data\".\n"
   ]
  },
  {
   "cell_type": "code",
   "execution_count": null,
   "metadata": {},
   "outputs": [],
   "source": [
    "\n"
   ]
  },
  {
   "cell_type": "markdown",
   "metadata": {},
   "source": [
    "## Plotting the Data\n",
    "* Use proper labeling of the plots using plot titles (including date of analysis) and axes labels.\n",
    "* Save the plotted figures as .pngs."
   ]
  },
  {
   "cell_type": "markdown",
   "metadata": {},
   "source": [
    "## Latitude vs. Temperature Plot"
   ]
  },
  {
   "cell_type": "code",
   "execution_count": 63,
   "metadata": {
    "scrolled": true
   },
   "outputs": [
    {
     "data": {
      "image/png": "[encoded data removed]",
      "text/plain": [
       "<Figure size 432x288 with 1 Axes>"
      ]
     },
     "metadata": {
      "needs_background": "light"
     },
     "output_type": "display_data"
    }
   ],
   "source": [
    "# Latitude vs. Temperature Plot\n",
    "plt.scatter(cities_weather_df['Lat'],cities_weather_df['Max Temp'],facecolors = \"blue\", edgecolors =\"black\", marker =\"o\")\n",
    "plt.title(f'City Latitude vs. Max Temperature ({time.strftime(\"%m/%d/%Y\")})')\n",
    "plt.xlabel(\"Latitude\")\n",
    "plt.ylabel(\"Temperature (F)\")\n",
    "plt.grid(linestyle='-', linewidth=1, alpha = 0.5)\n",
    "# Save fig\n",
    "plt.savefig(\"output_data/City_Latitude_vs_Temperature.png\")\n",
    "\n",
    "plt.show()"
   ]
  },
  {
   "cell_type": "markdown",
   "metadata": {},
   "source": [
    "## Latitude vs. Humidity Plot"
   ]
  },
  {
   "cell_type": "code",
   "execution_count": 64,
   "metadata": {},
   "outputs": [
    {
     "data": {
      "image/png": "[encoded data removed]",
      "text/plain": [
       "<Figure size 432x288 with 1 Axes>"
      ]
     },
     "metadata": {
      "needs_background": "light"
     },
     "output_type": "display_data"
    }
   ],
   "source": [
    "# Latitude vs. Humidity Plot\n",
    "plt.scatter(cities_weather_df[\"Lat\"],cities_weather_df[\"Humidity\"],facecolors = \"yellow\", edgecolors =\"black\",marker =\"o\")\n",
    "plt.title(f'City Latitude vs. Humidity ({time.strftime(\"%m/%d/%Y\")})')\n",
    "plt.xlabel(\"Latitude\")\n",
    "plt.ylabel(\"Humidity (%)\")\n",
    "plt.grid(linestyle='-', linewidth=1, alpha = 0.5)\n",
    "# Save fig\n",
    "plt.savefig(\"output_data/City_Latitude_vs_Humidity.png\")\n",
    "\n",
    "plt.show()"
   ]
  },
  {
   "cell_type": "markdown",
   "metadata": {},
   "source": [
    "## Latitude vs. Cloudiness Plot"
   ]
  },
  {
   "cell_type": "code",
   "execution_count": 65,
   "metadata": {},
   "outputs": [
    {
     "data": {
      "image/png": "[encoded data removed]",
      "text/plain": [
       "<Figure size 432x288 with 1 Axes>"
      ]
     },
     "metadata": {
      "needs_background": "light"
     },
     "output_type": "display_data"
    }
   ],
   "source": [
    "# Latitude vs. Cloudiness Plot\n",
    "plt.scatter(cities_weather_df['Lat'],cities_weather_df['Cloudiness'],facecolors = \"red\", edgecolors =\"black\", marker =\"o\")\n",
    "plt.title(f'City Latitude vs. Cloudiness ({time.strftime(\"%m/%d/%Y\")})')\n",
    "plt.xlabel(\"Latitude\")\n",
    "plt.ylabel(\"Cloudiness (%)\")\n",
    "plt.grid(linestyle='-', linewidth=1, alpha = 0.5)\n",
    "\n",
    "# Save fig\n",
    "plt.savefig(\"output_data/City_Latitude_vs_Cloudiness.png\")\n",
    "\n",
    "plt.show()"
   ]
  },
  {
   "cell_type": "markdown",
   "metadata": {},
   "source": [
    "## Latitude vs. Wind Speed Plot"
   ]
  },
  {
   "cell_type": "code",
   "execution_count": 66,
   "metadata": {},
   "outputs": [
    {
     "data": {
      "image/png": "[encoded data removed]",
      "text/plain": [
       "<Figure size 432x288 with 1 Axes>"
      ]
     },
     "metadata": {
      "needs_background": "light"
     },
     "output_type": "display_data"
    }
   ],
   "source": [
    "# Latitude vs. Wind Speed Scatter Plot \n",
    "plt.scatter(cities_weather_df[\"Lat\"],cities_weather_df[\"Wind Speed\"],facecolors = \"green\", edgecolors =\"black\", marker =\"o\")\n",
    "plt.title(f'City Latitude vs. Wind Speed ({time.strftime(\"%m/%d/%Y\")})')\n",
    "plt.xlabel(\"Latitude\")\n",
    "plt.ylabel(\"Cloudiness (%)\")\n",
    "plt.grid(linestyle='-', linewidth=1, alpha = 0.5)\n",
    "\n",
    "# Save fig\n",
    "plt.savefig(\"output_data/City_Latitude_vs_WindSpeed.png\")\n",
    "\n",
    "plt.show()"
   ]
  },
  {
   "cell_type": "markdown",
   "metadata": {},
   "source": [
    "## Linear Regression"
   ]
  },
  {
   "cell_type": "code",
   "execution_count": 71,
   "metadata": {},
   "outputs": [],
   "source": [
    "# define a function called plot_linregress\n",
    "def plot_linregress(X, y, title):\n",
    "    print(f\"The r-squared is: {round(st.pearsonr(X, y)[0],2)}\")\n",
    "    (slope, intercept, rvalue, pvalue, stderr) = linregress(X, y)\n",
    "    regress_values = X * slope + intercept\n",
    "    line_eq = \"y = \" + str(round(slope,2)) + \"X + \" + str(round(intercept,2))\n",
    "    plt.scatter(X, y)\n",
    "    plt.plot(X,regress_values,\"r-\")\n",
    "    plt.title(title + '\\n' + line_eq)\n",
    "    plt.xlabel(X.name)\n",
    "    plt.ylabel(y.name)"
   ]
  },
  {
   "cell_type": "markdown",
   "metadata": {},
   "source": [
    "####  Northern Hemisphere - Max Temp vs. Latitude Linear Regression"
   ]
  },
  {
   "cell_type": "code",
   "execution_count": 72,
   "metadata": {},
   "outputs": [
    {
     "name": "stdout",
     "output_type": "stream",
     "text": [
      "The r-squared is: -0.65\n"
     ]
    },
    {
     "data": {
      "image/png": "[encoded data removed]",
      "text/plain": [
       "<Figure size 432x288 with 1 Axes>"
      ]
     },
     "metadata": {
      "needs_background": "light"
     },
     "output_type": "display_data"
    }
   ],
   "source": [
    "# Create Northern DataFrames\n",
    "northern_hemisphere_df = cities_weather_df.loc[cities_weather_df['Lat'] >= 0]\n",
    "# Northern Hemisphere - Max Temp vs. Latitude Linear Regression\n",
    "plot_linregress(northern_hemisphere_df['Lat'], northern_hemisphere_df['Max Temp'], 'Northern Hemisphere - Max Temp vs. Latitude Linear Regression')\n",
    "# from the linear regression we can find that Max Temp and Latitude are somehow related in northern hemisphere."
   ]
  },
  {
   "cell_type": "markdown",
   "metadata": {},
   "source": [
    "####  Southern Hemisphere - Max Temp vs. Latitude Linear Regression"
   ]
  },
  {
   "cell_type": "code",
   "execution_count": 74,
   "metadata": {},
   "outputs": [
    {
     "name": "stdout",
     "output_type": "stream",
     "text": [
      "The r-squared is: 0.67\n"
     ]
    },
    {
     "data": {
      "image/png": "[encoded data removed]",
      "text/plain": [
       "<Figure size 432x288 with 1 Axes>"
      ]
     },
     "metadata": {
      "needs_background": "light"
     },
     "output_type": "display_data"
    }
   ],
   "source": [
    "# Create Sourthern DataFrames\n",
    "southern_hemisphere_df = cities_weather_df.loc[cities_weather_df['Lat'] < 0]\n",
    "\n",
    "# Southern Hemisphere - Max Temp vs. Latitude Linear Regression\n",
    "\n",
    "plot_linregress(southern_hemisphere_df['Lat'], southern_hemisphere_df['Max Temp'], 'Southern Hemisphere -Max Temp vs. Latitude Linear Regression')\n",
    "# from the linear regression we can find that Max Temp and Latitude are highly related in southern hemisphere."
   ]
  },
  {
   "cell_type": "markdown",
   "metadata": {},
   "source": [
    "####  Northern Hemisphere - Humidity (%) vs. Latitude Linear Regression"
   ]
  },
  {
   "cell_type": "code",
   "execution_count": 75,
   "metadata": {},
   "outputs": [
    {
     "name": "stdout",
     "output_type": "stream",
     "text": [
      "The r-squared is: -0.01\n"
     ]
    },
    {
     "data": {
      "image/png": "[encoded data removed]",
      "text/plain": [
       "<Figure size 432x288 with 1 Axes>"
      ]
     },
     "metadata": {
      "needs_background": "light"
     },
     "output_type": "display_data"
    }
   ],
   "source": [
    "# Northern Hemisphere - Humidity (%) vs. Latitude Linear Regression\n",
    "plot_linregress(northern_hemisphere_df['Lat'], northern_hemisphere_df['Humidity'], 'Northern Hemisphere - Humidity (%) vs. Latitude Linear Regression')\n",
    "# from the linear regression we can find that humidity and latitude do not have good linear coorelation in northern hemisphere."
   ]
  },
  {
   "cell_type": "markdown",
   "metadata": {},
   "source": [
    "####  Southern Hemisphere - Humidity (%) vs. Latitude Linear Regression"
   ]
  },
  {
   "cell_type": "code",
   "execution_count": 76,
   "metadata": {},
   "outputs": [
    {
     "name": "stdout",
     "output_type": "stream",
     "text": [
      "The r-squared is: 0.04\n"
     ]
    },
    {
     "data": {
      "image/png": "[encoded data removed]",
      "text/plain": [
       "<Figure size 432x288 with 1 Axes>"
      ]
     },
     "metadata": {
      "needs_background": "light"
     },
     "output_type": "display_data"
    }
   ],
   "source": [
    "# Southern Hemisphere - Humidity (%) vs. Latitude Linear Regression\n",
    "plot_linregress(southern_hemisphere_df['Lat'], southern_hemisphere_df['Humidity'], 'Southern Hemisphere - Humidity (%) vs. Latitude Linear Regression')\n",
    "# from the linear regression we can find that humidity and latitude do not have good linear coorelation in southern hemisphere."
   ]
  },
  {
   "cell_type": "markdown",
   "metadata": {},
   "source": [
    "####  Northern Hemisphere - Cloudiness (%) vs. Latitude Linear Regression"
   ]
  },
  {
   "cell_type": "code",
   "execution_count": 77,
   "metadata": {},
   "outputs": [
    {
     "name": "stdout",
     "output_type": "stream",
     "text": [
      "The r-squared is: -0.12\n"
     ]
    },
    {
     "data": {
      "image/png": "[encoded data removed]",
      "text/plain": [
       "<Figure size 432x288 with 1 Axes>"
      ]
     },
     "metadata": {
      "needs_background": "light"
     },
     "output_type": "display_data"
    }
   ],
   "source": [
    "# Northern Hemisphere - Cloudiness (%) vs. Latitude Linear Regression\n",
    "\n",
    "plot_linregress(northern_hemisphere_df['Lat'], northern_hemisphere_df['Cloudiness'], 'Northern Hemisphere - Cloudiness (%) vs. Latitude Linear Regression')\n",
    "# from the linear regression we can find that cloudness and latitude do not have good linear coorelation in northern hemisphere."
   ]
  },
  {
   "cell_type": "markdown",
   "metadata": {},
   "source": [
    "####  Southern Hemisphere - Cloudiness (%) vs. Latitude Linear Regression"
   ]
  },
  {
   "cell_type": "code",
   "execution_count": 78,
   "metadata": {},
   "outputs": [
    {
     "name": "stdout",
     "output_type": "stream",
     "text": [
      "The r-squared is: 0.01\n"
     ]
    },
    {
     "data": {
      "image/png": "[encoded data removed]",
      "text/plain": [
       "<Figure size 432x288 with 1 Axes>"
      ]
     },
     "metadata": {
      "needs_background": "light"
     },
     "output_type": "display_data"
    }
   ],
   "source": [
    "# Southern Hemisphere - Cloudiness (%) vs. Latitude Linear Regression\n",
    "plot_linregress(southern_hemisphere_df['Lat'], southern_hemisphere_df['Cloudiness'], 'Southern Hemisphere - Cloudiness (%) vs. Latitude Linear Regression')\n",
    "# from the linear regression we can find that cloudness and latitude do not have good linear coorelation in southern hemisphere."
   ]
  },
  {
   "cell_type": "markdown",
   "metadata": {},
   "source": [
    "####  Northern Hemisphere - Wind Speed (mph) vs. Latitude Linear Regression"
   ]
  },
  {
   "cell_type": "code",
   "execution_count": 79,
   "metadata": {},
   "outputs": [
    {
     "name": "stdout",
     "output_type": "stream",
     "text": [
      "The r-squared is: -0.03\n"
     ]
    },
    {
     "data": {
      "image/png": "[encoded data removed]",
      "text/plain": [
       "<Figure size 432x288 with 1 Axes>"
      ]
     },
     "metadata": {
      "needs_background": "light"
     },
     "output_type": "display_data"
    }
   ],
   "source": [
    "# Northern Hemisphere - Wind Speed (mph) vs. Latitude Linear Regression\n",
    "plot_linregress(northern_hemisphere_df['Lat'], northern_hemisphere_df['Wind Speed'], 'Northern Hemisphere - Wind Speed (mph) vs. Latitude Linear Regression')\n",
    "# from the linear regression we can find that wind speen and latitude do not have good linear coorelation in northern hemisphere."
   ]
  },
  {
   "cell_type": "markdown",
   "metadata": {},
   "source": [
    "####  Southern Hemisphere - Wind Speed (mph) vs. Latitude Linear Regression"
   ]
  },
  {
   "cell_type": "code",
   "execution_count": 81,
   "metadata": {},
   "outputs": [
    {
     "name": "stdout",
     "output_type": "stream",
     "text": [
      "The r-squared is: -0.23\n"
     ]
    },
    {
     "data": {
      "image/png": "[encoded data removed]",
      "text/plain": [
       "<Figure size 432x288 with 1 Axes>"
      ]
     },
     "metadata": {
      "needs_background": "light"
     },
     "output_type": "display_data"
    }
   ],
   "source": [
    "# Southern Hemisphere - Wind Speed (mph) vs. Latitude Linear Regression\n",
    "plot_linregress(southern_hemisphere_df['Lat'], southern_hemisphere_df['Wind Speed'], 'Southern Hemisphere - Wind Speed (mph) vs. Latitude Linear Regression')\n",
    "# from the linear regression we can find that windspeed and latitude do not have good linear coorelation in southern hemisphere."
   ]
  },
  {
   "cell_type": "code",
   "execution_count": null,
   "metadata": {},
   "outputs": [],
   "source": []
  }
 ],
 "metadata": {
  "anaconda-cloud": {},
  "kernel_info": {
   "name": "python3"
  },
  "kernelspec": {
   "display_name": "PythonData",
   "language": "python",
   "name": "pythondata"
  },
  "language_info": {
   "codemirror_mode": {
    "name": "ipython",
    "version": 3
   },
   "file_extension": ".py",
   "mimetype": "text/x-python",
   "name": "python",
   "nbconvert_exporter": "python",
   "pygments_lexer": "ipython3",
   "version": "3.8.5"
  },
  "latex_envs": {
   "LaTeX_envs_menu_present": true,
   "autoclose": false,
   "autocomplete": true,
   "bibliofile": "biblio.bib",
   "cite_by": "apalike",
   "current_citInitial": 1,
   "eqLabelWithNumbers": true,
   "eqNumInitial": 1,
   "hotkeys": {
    "equation": "Ctrl-E",
    "itemize": "Ctrl-I"
   },
   "labels_anchors": false,
   "latex_user_defs": false,
   "report_style_numbering": false,
   "user_envs_cfg": false
  },
  "nteract": {
   "version": "0.12.3"
  }
 },
 "nbformat": 4,
 "nbformat_minor": 4
}
