{
 "cells": [
  {
   "cell_type": "markdown",
   "metadata": {},
   "source": [
    "# WeatherPy\n",
    "----\n",
    "\n",
    "#### Note\n",
    "* Instructions have been included for each segment. You do not have to follow them exactly, but they are included to help you think through the steps."
   ]
  },
  {
   "cell_type": "code",
   "execution_count": 2,
   "metadata": {
    "scrolled": true
   },
   "outputs": [],
   "source": [
    "# Dependencies and Setup\n",
    "import matplotlib.pyplot as plt\n",
    "import pandas as pd\n",
    "import numpy as np\n",
    "import requests\n",
    "import time\n",
    "from scipy.stats import linregress\n",
    "import scipy.stats as st\n",
    "# Import API key\n",
    "from api_keys import weather_api_key\n",
    "\n",
    "# Incorporated citipy to determine city based on latitude and longitude\n",
    "from citipy import citipy\n",
    "\n",
    "# Output File (CSV)\n",
    "output_data_file = \"output_data/cities.csv\"\n",
    "\n",
    "# Range of latitudes and longitudes\n",
    "lat_range = (-90, 90)\n",
    "lng_range = (-180, 180)"
   ]
  },
  {
   "cell_type": "markdown",
   "metadata": {},
   "source": [
    "## Generate Cities List"
   ]
  },
  {
   "cell_type": "code",
   "execution_count": 3,
   "metadata": {},
   "outputs": [
    {
     "data": {
      "text/plain": [
       "624"
      ]
     },
     "execution_count": 3,
     "metadata": {},
     "output_type": "execute_result"
    }
   ],
   "source": [
    "# List for holding lat_lngs and cities\n",
    "lat_lngs = []\n",
    "cities = []\n",
    "\n",
    "# Create a set of random lat and lng combinations\n",
    "lats = np.random.uniform(lat_range[0], lat_range[1], size=1500)\n",
    "lngs = np.random.uniform(lng_range[0], lng_range[1], size=1500)\n",
    "lat_lngs = zip(lats, lngs)\n",
    "\n",
    "# Identify nearest city for each lat, lng combination\n",
    "for lat_lng in lat_lngs:\n",
    "    city = citipy.nearest_city(lat_lng[0], lat_lng[1]).city_name\n",
    "    \n",
    "    # If the city is unique, then add it to a our cities list\n",
    "    if city not in cities:\n",
    "        cities.append(city)\n",
    "\n",
    "# Print the city count to confirm sufficient count\n",
    "len(cities)"
   ]
  },
  {
   "cell_type": "markdown",
   "metadata": {},
   "source": [
    "### Perform API Calls\n",
    "* Perform a weather check on each city using a series of successive API calls.\n",
    "* Include a print log of each city as it'sbeing processed (with the city number and city name).\n"
   ]
  },
  {
   "cell_type": "code",
   "execution_count": 4,
   "metadata": {
    "scrolled": true
   },
   "outputs": [
    {
     "name": "stdout",
     "output_type": "stream",
     "text": [
      "Processing Record1of624|paita\n",
      "Processing Record2of624|nylstroom\n",
      "City not found. Skipping...\n",
      "Processing Record3of624|pisco\n",
      "Processing Record4of624|punta arenas\n",
      "Processing Record5of624|ushuaia\n",
      "Processing Record6of624|husavik\n",
      "Processing Record7of624|leningradskiy\n",
      "Processing Record8of624|rikitea\n",
      "Processing Record9of624|cape town\n",
      "Processing Record10of624|vardo\n",
      "Processing Record11of624|saint george\n",
      "Processing Record12of624|port alfred\n",
      "Processing Record13of624|georgetown\n",
      "Processing Record14of624|pachino\n",
      "Processing Record15of624|wollongong\n",
      "Processing Record16of624|quatre cocos\n",
      "Processing Record17of624|teguldet\n",
      "Processing Record18of624|narsaq\n",
      "Processing Record19of624|lata\n",
      "Processing Record20of624|khatanga\n",
      "Processing Record21of624|biltine\n",
      "Processing Record22of624|castro\n",
      "Processing Record23of624|xining\n",
      "Processing Record24of624|metro\n",
      "Processing Record25of624|atuona\n",
      "Processing Record26of624|bethel\n",
      "Processing Record27of624|puerto ayora\n",
      "Processing Record28of624|suao\n",
      "City not found. Skipping...\n",
      "Processing Record29of624|meulaboh\n",
      "Processing Record30of624|riyadh\n",
      "Processing Record31of624|tralee\n",
      "Processing Record32of624|wageningen\n",
      "Processing Record33of624|saskylakh\n",
      "Processing Record34of624|kurumkan\n",
      "Processing Record35of624|hobart\n",
      "Processing Record36of624|ribeira grande\n",
      "Processing Record37of624|bredasdorp\n",
      "Processing Record38of624|jamestown\n",
      "Processing Record39of624|cherskiy\n",
      "Processing Record40of624|hermanus\n",
      "Processing Record41of624|dikson\n",
      "Processing Record42of624|mahebourg\n",
      "Processing Record43of624|vestmannaeyjar\n",
      "Processing Record44of624|taolanaro\n",
      "City not found. Skipping...\n",
      "Processing Record45of624|la romana\n",
      "Processing Record46of624|athmallik\n",
      "Processing Record47of624|new norfolk\n",
      "Processing Record48of624|grand river south east\n",
      "City not found. Skipping...\n",
      "Processing Record49of624|bathsheba\n",
      "Processing Record50of624|busselton\n",
      "Processing Record51of624|grindavik\n",
      "Processing Record52of624|kamenskoye\n",
      "City not found. Skipping...\n",
      "Processing Record53of624|kerema\n",
      "Processing Record54of624|bluff\n",
      "Processing Record55of624|guarapari\n",
      "Processing Record56of624|bonthe\n",
      "Processing Record57of624|tsihombe\n",
      "City not found. Skipping...\n",
      "Processing Record58of624|wahpeton\n",
      "Processing Record59of624|hasaki\n",
      "Processing Record60of624|lokosovo\n",
      "Processing Record61of624|korla\n",
      "Processing Record62of624|summerside\n",
      "Processing Record63of624|port-gentil\n",
      "Processing Record64of624|milas\n",
      "Processing Record65of624|flin flon\n",
      "Processing Record66of624|mataura\n",
      "Processing Record67of624|smithers\n",
      "Processing Record68of624|albany\n",
      "Processing Record69of624|avarua\n",
      "Processing Record70of624|purpe\n",
      "Processing Record71of624|chimbote\n",
      "Processing Record72of624|yellowknife\n",
      "Processing Record73of624|canutama\n",
      "Processing Record74of624|sao felix do xingu\n",
      "Processing Record75of624|belushya guba\n",
      "City not found. Skipping...\n",
      "Processing Record76of624|uaua\n",
      "Processing Record77of624|pevek\n",
      "Processing Record78of624|kandrian\n",
      "Processing Record79of624|gouyave\n",
      "Processing Record80of624|victoria\n",
      "Processing Record81of624|contamana\n",
      "Processing Record82of624|longyearbyen\n",
      "Processing Record83of624|illoqqortoormiut\n",
      "City not found. Skipping...\n",
      "Processing Record84of624|akyab\n",
      "Processing Record85of624|batagay\n",
      "Processing Record86of624|midland\n",
      "Processing Record87of624|vila franca do campo\n",
      "Processing Record88of624|qaqortoq\n",
      "Processing Record89of624|panama city\n",
      "Processing Record90of624|dunedin\n",
      "Processing Record91of624|sao joao da barra\n",
      "Processing Record92of624|saint anthony\n",
      "Processing Record93of624|boguchany\n",
      "Processing Record94of624|severo-yeniseyskiy\n",
      "Processing Record95of624|omboue\n",
      "Processing Record96of624|kangaatsiaq\n",
      "Processing Record97of624|norman wells\n",
      "Processing Record98of624|samusu\n",
      "City not found. Skipping...\n",
      "Processing Record99of624|alofi\n",
      "Processing Record100of624|faya\n",
      "Processing Record101of624|klaksvik\n",
      "Processing Record102of624|pravda\n",
      "Processing Record103of624|benguela\n",
      "Processing Record104of624|belaya gora\n",
      "Processing Record105of624|upernavik\n",
      "Processing Record106of624|pafos\n",
      "Processing Record107of624|hovd\n",
      "Processing Record108of624|samarai\n",
      "Processing Record109of624|lovozero\n",
      "Processing Record110of624|san isidro\n",
      "Processing Record111of624|diego de almagro\n",
      "Processing Record112of624|marienburg\n",
      "Processing Record113of624|zubtsov\n",
      "Processing Record114of624|cockburn harbour\n",
      "City not found. Skipping...\n",
      "Processing Record115of624|otradnoye\n",
      "Processing Record116of624|san lazaro\n",
      "Processing Record117of624|papetoai\n",
      "Processing Record118of624|mackenzie\n",
      "Processing Record119of624|thompson\n",
      "Processing Record120of624|ostrovnoy\n",
      "Processing Record121of624|cabo san lucas\n",
      "Processing Record122of624|tosya\n",
      "Processing Record123of624|mayna\n",
      "Processing Record124of624|weihai\n",
      "Processing Record125of624|dakar\n",
      "Processing Record126of624|fortuna\n",
      "Processing Record127of624|cidreira\n",
      "Processing Record128of624|belyy yar\n",
      "Processing Record129of624|faanui\n",
      "Processing Record130of624|hofn\n",
      "Processing Record131of624|provideniya\n",
      "Processing Record132of624|vaini\n",
      "Processing Record133of624|katsuura\n",
      "Processing Record134of624|tiksi\n",
      "Processing Record135of624|east london\n",
      "Processing Record136of624|bambous virieux\n",
      "Processing Record137of624|hobyo\n",
      "Processing Record138of624|garden city\n",
      "Processing Record139of624|uyuni\n",
      "Processing Record140of624|mar del plata\n",
      "Processing Record141of624|micomeseng\n",
      "Processing Record142of624|ahipara\n",
      "Processing Record143of624|barrow\n",
      "Processing Record144of624|nouadhibou\n",
      "Processing Record145of624|bolshaya chernigovka\n",
      "City not found. Skipping...\n",
      "Processing Record146of624|gushi\n",
      "Processing Record147of624|freeport\n",
      "Processing Record148of624|qaanaaq\n",
      "Processing Record149of624|kununurra\n",
      "Processing Record150of624|sofiysk\n",
      "City not found. Skipping...\n",
      "Processing Record151of624|marfino\n",
      "Processing Record152of624|tiarei\n",
      "Processing Record153of624|kahului\n",
      "Processing Record154of624|barentsburg\n",
      "City not found. Skipping...\n",
      "Processing Record155of624|vanavara\n",
      "Processing Record156of624|gamba\n",
      "Processing Record157of624|attawapiskat\n",
      "City not found. Skipping...\n",
      "Processing Record158of624|coihaique\n",
      "Processing Record159of624|namie\n",
      "Processing Record160of624|jizan\n",
      "Processing Record161of624|aklavik\n",
      "Processing Record162of624|chokurdakh\n",
      "Processing Record163of624|chomun\n",
      "City not found. Skipping...\n",
      "Processing Record164of624|lompoc\n",
      "Processing Record165of624|maceio\n",
      "Processing Record166of624|camacha\n",
      "Processing Record167of624|emporia\n",
      "Processing Record168of624|daru\n",
      "Processing Record169of624|kalevala\n",
      "Processing Record170of624|rocha\n",
      "Processing Record171of624|kjollefjord\n",
      "Processing Record172of624|kungurtug\n",
      "Processing Record173of624|qafsah\n",
      "City not found. Skipping...\n",
      "Processing Record174of624|cordoba\n",
      "Processing Record175of624|vista hermosa\n",
      "Processing Record176of624|airai\n",
      "Processing Record177of624|manokwari\n",
      "Processing Record178of624|butaritari\n",
      "Processing Record179of624|sitka\n",
      "Processing Record180of624|ginir\n",
      "Processing Record181of624|brae\n",
      "Processing Record182of624|itarema\n",
      "Processing Record183of624|gurupi\n",
      "Processing Record184of624|luancheng\n",
      "Processing Record185of624|kaniama\n",
      "Processing Record186of624|santa cruz de la palma\n",
      "Processing Record187of624|port elizabeth\n",
      "Processing Record188of624|kavieng\n",
      "Processing Record189of624|palabuhanratu\n",
      "City not found. Skipping...\n",
      "Processing Record190of624|gurgan\n",
      "City not found. Skipping...\n",
      "Processing Record191of624|codrington\n",
      "Processing Record192of624|perth\n",
      "Processing Record193of624|bo rai\n",
      "Processing Record194of624|gorontalo\n",
      "Processing Record195of624|tuktoyaktuk\n",
      "Processing Record196of624|sao filipe\n",
      "Processing Record197of624|sioux lookout\n",
      "Processing Record198of624|la ronge\n",
      "Processing Record199of624|sloboda\n",
      "Processing Record200of624|abu samrah\n",
      "Processing Record201of624|komsomolskiy\n",
      "Processing Record202of624|praia da vitoria\n",
      "Processing Record203of624|zavodskoy\n",
      "Processing Record204of624|kyra\n",
      "Processing Record205of624|marcona\n",
      "City not found. Skipping...\n",
      "Processing Record206of624|gwadar\n",
      "Processing Record207of624|brugge\n",
      "Processing Record208of624|yanan\n",
      "City not found. Skipping...\n",
      "Processing Record209of624|nichinan\n",
      "Processing Record210of624|bilma\n",
      "Processing Record211of624|boromlya\n",
      "Processing Record212of624|paradwip\n",
      "City not found. Skipping...\n",
      "Processing Record213of624|kloulklubed\n",
      "Processing Record214of624|bandarbeyla\n",
      "Processing Record215of624|tabiauea\n",
      "City not found. Skipping...\n",
      "Processing Record216of624|falealupo\n",
      "City not found. Skipping...\n",
      "Processing Record217of624|naze\n",
      "Processing Record218of624|chuy\n",
      "Processing Record219of624|saint-philippe\n",
      "Processing Record220of624|saint-ambroise\n",
      "Processing Record221of624|troyes\n",
      "Processing Record222of624|lujan\n",
      "Processing Record223of624|celina\n",
      "Processing Record224of624|port augusta\n",
      "Processing Record225of624|sagua la grande\n",
      "Processing Record226of624|wufeng\n",
      "Processing Record227of624|ghanzi\n",
      "Processing Record228of624|wewak\n",
      "Processing Record229of624|asau\n",
      "Processing Record230of624|langham\n",
      "Processing Record231of624|lolua\n",
      "City not found. Skipping...\n",
      "Processing Record232of624|hithadhoo\n",
      "Processing Record233of624|sotuta\n",
      "Processing Record234of624|korcula\n",
      "Processing Record235of624|port lincoln\n",
      "Processing Record236of624|kodiak\n",
      "Processing Record237of624|marzuq\n",
      "Processing Record238of624|los llanos de aridane\n",
      "Processing Record239of624|tasiilaq\n",
      "Processing Record240of624|tomatlan\n",
      "Processing Record241of624|vila velha\n",
      "Processing Record242of624|alice springs\n",
      "Processing Record243of624|kapaa\n",
      "Processing Record244of624|carnarvon\n",
      "Processing Record245of624|biak\n",
      "Processing Record246of624|khatauli\n",
      "Processing Record247of624|elizabeth city\n",
      "Processing Record248of624|awbari\n",
      "Processing Record249of624|gat\n",
      "Processing Record250of624|beausejour\n",
      "Processing Record251of624|duldurga\n",
      "Processing Record252of624|vega de alatorre\n",
      "Processing Record253of624|tsienyane\n",
      "City not found. Skipping...\n",
      "Processing Record254of624|honningsvag\n",
      "Processing Record255of624|libertador general san martin\n",
      "Processing Record256of624|sydney mines\n",
      "Processing Record257of624|sug-aksy\n",
      "City not found. Skipping...\n",
      "Processing Record258of624|tessalit\n",
      "Processing Record259of624|lumberton\n",
      "Processing Record260of624|kaitangata\n",
      "Processing Record261of624|aranos\n",
      "Processing Record262of624|xiaoweizhai\n",
      "Processing Record263of624|acapulco\n",
      "Processing Record264of624|padang\n",
      "Processing Record265of624|doha\n",
      "Processing Record266of624|sweetwater\n",
      "Processing Record267of624|coos bay\n",
      "Processing Record268of624|ambilobe\n",
      "Processing Record269of624|alyangula\n",
      "Processing Record270of624|oktyabrskoye\n",
      "Processing Record271of624|beaverlodge\n",
      "Processing Record272of624|mareeba\n",
      "Processing Record273of624|fallon\n",
      "Processing Record274of624|atambua\n",
      "Processing Record275of624|aksu\n",
      "Processing Record276of624|iquitos\n",
      "Processing Record277of624|mount gambier\n",
      "Processing Record278of624|nenjiang\n",
      "Processing Record279of624|cayhagan\n",
      "Processing Record280of624|burnie\n",
      "Processing Record281of624|kruisfontein\n",
      "Processing Record282of624|rawannawi\n",
      "City not found. Skipping...\n",
      "Processing Record283of624|miyako\n",
      "Processing Record284of624|kropotkin\n",
      "Processing Record285of624|goderich\n",
      "Processing Record286of624|tignere\n",
      "Processing Record287of624|aswan\n",
      "Processing Record288of624|praya\n",
      "Processing Record289of624|college\n",
      "Processing Record290of624|kuldur\n",
      "Processing Record291of624|avera\n",
      "Processing Record292of624|ponta do sol\n",
      "Processing Record293of624|atar\n",
      "Processing Record294of624|presidencia roque saenz pena\n",
      "Processing Record295of624|touros\n",
      "Processing Record296of624|savannah bight\n",
      "Processing Record297of624|rimouski\n",
      "Processing Record298of624|ust-shonosha\n",
      "Processing Record299of624|ilulissat\n",
      "Processing Record300of624|bilibino\n",
      "Processing Record301of624|anadyr\n",
      "Processing Record302of624|yulara\n",
      "Processing Record303of624|grand gaube\n",
      "Processing Record304of624|verkhnevilyuysk\n",
      "Processing Record305of624|xiangdong\n",
      "City not found. Skipping...\n",
      "Processing Record306of624|constitucion\n",
      "Processing Record307of624|lensk\n",
      "Processing Record308of624|jamalpur\n",
      "Processing Record309of624|walvis bay\n",
      "Processing Record310of624|mys shmidta\n",
      "City not found. Skipping...\n",
      "Processing Record311of624|axim\n",
      "Processing Record312of624|vaitupu\n",
      "City not found. Skipping...\n",
      "Processing Record313of624|lloydminster\n",
      "Processing Record314of624|lubu\n",
      "Processing Record315of624|natal\n",
      "Processing Record316of624|burns lake\n",
      "Processing Record317of624|torbay\n",
      "Processing Record318of624|beinamar\n",
      "Processing Record319of624|mount isa\n",
      "Processing Record320of624|biloela\n",
      "Processing Record321of624|taburi\n",
      "City not found. Skipping...\n",
      "Processing Record322of624|amderma\n",
      "City not found. Skipping...\n",
      "Processing Record323of624|bukachacha\n",
      "Processing Record324of624|yarada\n",
      "Processing Record325of624|luanda\n",
      "Processing Record326of624|altea\n",
      "Processing Record327of624|boende\n",
      "Processing Record328of624|hanstholm\n",
      "Processing Record329of624|san cristobal\n",
      "Processing Record330of624|talnakh\n",
      "Processing Record331of624|namibe\n",
      "Processing Record332of624|saint-augustin\n",
      "Processing Record333of624|itaituba\n",
      "Processing Record334of624|shibarghan\n",
      "City not found. Skipping...\n",
      "Processing Record335of624|karratha\n",
      "Processing Record336of624|luderitz\n",
      "Processing Record337of624|ancud\n",
      "Processing Record338of624|lagoa\n",
      "Processing Record339of624|san ramon\n",
      "Processing Record340of624|westport\n",
      "Processing Record341of624|guerrero negro\n",
      "Processing Record342of624|inhambane\n",
      "Processing Record343of624|devonport\n",
      "Processing Record344of624|jinchang\n",
      "Processing Record345of624|nikolskoye\n",
      "Processing Record346of624|odweyne\n",
      "Processing Record347of624|hilo\n",
      "Processing Record348of624|vacaria\n",
      "Processing Record349of624|sentyabrskiy\n",
      "City not found. Skipping...\n",
      "Processing Record350of624|lumphat\n",
      "Processing Record351of624|saleaula\n",
      "City not found. Skipping...\n",
      "Processing Record352of624|taoudenni\n",
      "Processing Record353of624|clyde river\n",
      "Processing Record354of624|alta floresta\n",
      "Processing Record355of624|gazojak\n",
      "Processing Record356of624|kamenka\n",
      "Processing Record357of624|yar-sale\n",
      "Processing Record358of624|olafsvik\n",
      "Processing Record359of624|lucapa\n",
      "Processing Record360of624|tateyama\n",
      "Processing Record361of624|geraldton\n",
      "Processing Record362of624|harper\n",
      "Processing Record363of624|lakes entrance\n",
      "Processing Record364of624|vila\n",
      "Processing Record365of624|singaparna\n",
      "Processing Record366of624|tukrah\n",
      "Processing Record367of624|fasa\n",
      "Processing Record368of624|rumford\n",
      "Processing Record369of624|isangel\n",
      "Processing Record370of624|diamantino\n",
      "Processing Record371of624|najran\n",
      "Processing Record372of624|gerash\n",
      "Processing Record373of624|wilmington\n",
      "Processing Record374of624|nha trang\n",
      "Processing Record375of624|saint-pierre\n",
      "Processing Record376of624|sandpoint\n",
      "Processing Record377of624|beauvais\n",
      "Processing Record378of624|sorong\n",
      "Processing Record379of624|maltahohe\n",
      "Processing Record380of624|sangar\n",
      "Processing Record381of624|tingo maria\n",
      "Processing Record382of624|shenjiamen\n",
      "Processing Record383of624|tumen\n",
      "Processing Record384of624|chardara\n",
      "Processing Record385of624|arraial do cabo\n",
      "Processing Record386of624|burica\n",
      "City not found. Skipping...\n",
      "Processing Record387of624|beloha\n",
      "Processing Record388of624|lavrentiya\n",
      "Processing Record389of624|dingle\n",
      "Processing Record390of624|vangaindrano\n",
      "Processing Record391of624|lebu\n",
      "Processing Record392of624|carauari\n",
      "Processing Record393of624|kirakira\n",
      "Processing Record394of624|inuvik\n",
      "Processing Record395of624|sorland\n",
      "Processing Record396of624|buchanan\n",
      "Processing Record397of624|umm kaddadah\n",
      "Processing Record398of624|nokaneng\n",
      "Processing Record399of624|nizhneyansk\n",
      "City not found. Skipping...\n",
      "Processing Record400of624|iqaluit\n",
      "Processing Record401of624|desaguadero\n",
      "Processing Record402of624|flinders\n",
      "Processing Record403of624|panjab\n",
      "Processing Record404of624|vostochnyy\n",
      "Processing Record405of624|hirara\n",
      "Processing Record406of624|uray\n",
      "Processing Record407of624|mega\n",
      "Processing Record408of624|port hardy\n",
      "Processing Record409of624|palafrugell\n",
      "Processing Record410of624|rawah\n",
      "Processing Record411of624|yashalta\n",
      "Processing Record412of624|san patricio\n",
      "Processing Record413of624|scottsburgh\n",
      "City not found. Skipping...\n",
      "Processing Record414of624|banda aceh\n",
      "Processing Record415of624|saldanha\n",
      "Processing Record416of624|nabire\n",
      "Processing Record417of624|harwich\n",
      "Processing Record418of624|noyabrsk\n",
      "Processing Record419of624|beringovskiy\n",
      "Processing Record420of624|talawdi\n",
      "City not found. Skipping...\n",
      "Processing Record421of624|ji-parana\n",
      "City not found. Skipping...\n",
      "Processing Record422of624|salalah\n",
      "Processing Record423of624|bobo dioulasso\n",
      "Processing Record424of624|san vicente\n",
      "Processing Record425of624|broken hill\n",
      "Processing Record426of624|sisimiut\n",
      "Processing Record427of624|khandyga\n",
      "Processing Record428of624|laguna\n",
      "Processing Record429of624|sharan\n",
      "Processing Record430of624|maragogi\n",
      "Processing Record431of624|yinchuan\n",
      "Processing Record432of624|altonia\n",
      "City not found. Skipping...\n",
      "Processing Record433of624|dunmore east\n",
      "Processing Record434of624|samana\n",
      "Processing Record435of624|zhigansk\n",
      "Processing Record436of624|nadvoitsy\n",
      "Processing Record437of624|mago\n",
      "Processing Record438of624|louisbourg\n",
      "City not found. Skipping...\n",
      "Processing Record439of624|plettenberg bay\n",
      "Processing Record440of624|pangnirtung\n",
      "Processing Record441of624|gornyatskiy\n",
      "Processing Record442of624|roma\n",
      "Processing Record443of624|allapalli\n",
      "Processing Record444of624|san matias\n",
      "Processing Record445of624|prado\n",
      "Processing Record446of624|qinggang\n",
      "Processing Record447of624|pangkalanbuun\n",
      "Processing Record448of624|morondava\n",
      "Processing Record449of624|berlevag\n",
      "Processing Record450of624|kedrovyy\n",
      "Processing Record451of624|tunduru\n",
      "City not found. Skipping...\n",
      "Processing Record452of624|moranbah\n",
      "Processing Record453of624|nara\n",
      "Processing Record454of624|mooi river\n",
      "City not found. Skipping...\n",
      "Processing Record455of624|cockburn town\n",
      "Processing Record456of624|saint-joseph\n",
      "Processing Record457of624|krasnoborsk\n",
      "Processing Record458of624|ilo\n",
      "Processing Record459of624|aizkraukle\n",
      "Processing Record460of624|hamilton\n",
      "Processing Record461of624|srednekolymsk\n",
      "Processing Record462of624|guayaramerin\n",
      "Processing Record463of624|dongying\n",
      "Processing Record464of624|monze\n",
      "Processing Record465of624|bose\n",
      "Processing Record466of624|shalinskoye\n",
      "Processing Record467of624|orlik\n",
      "Processing Record468of624|sistranda\n",
      "Processing Record469of624|aberdeen\n",
      "Processing Record470of624|san quintin\n",
      "Processing Record471of624|candawaga\n",
      "City not found. Skipping...\n",
      "Processing Record472of624|nanchang\n",
      "Processing Record473of624|ye\n",
      "City not found. Skipping...\n",
      "Processing Record474of624|esperance\n",
      "Processing Record475of624|tonk\n",
      "Processing Record476of624|tiruchchendur\n",
      "Processing Record477of624|nguiu\n",
      "City not found. Skipping...\n",
      "Processing Record478of624|puerto narino\n",
      "Processing Record479of624|ende\n",
      "Processing Record480of624|arman\n",
      "Processing Record481of624|chikoy\n",
      "City not found. Skipping...\n",
      "Processing Record482of624|zhezkazgan\n",
      "Processing Record483of624|nanortalik\n",
      "Processing Record484of624|lulea\n",
      "Processing Record485of624|puerto escondido\n",
      "Processing Record486of624|tigil\n",
      "Processing Record487of624|sorvag\n",
      "City not found. Skipping...\n",
      "Processing Record488of624|meyungs\n",
      "City not found. Skipping...\n",
      "Processing Record489of624|shubarkuduk\n",
      "Processing Record490of624|kawana waters\n",
      "City not found. Skipping...\n",
      "Processing Record491of624|maloshuyka\n",
      "City not found. Skipping...\n",
      "Processing Record492of624|kajaani\n",
      "Processing Record493of624|wajima\n",
      "Processing Record494of624|mackay\n",
      "Processing Record495of624|nishihara\n",
      "Processing Record496of624|huangchuan\n",
      "Processing Record497of624|aktau\n",
      "Processing Record498of624|souillac\n",
      "Processing Record499of624|toba\n",
      "Processing Record500of624|naryan-mar\n",
      "Processing Record501of624|ilebo\n",
      "Processing Record502of624|comodoro rivadavia\n",
      "Processing Record503of624|esso\n",
      "Processing Record504of624|opuwo\n",
      "Processing Record505of624|panambi\n",
      "Processing Record506of624|cayenne\n",
      "Processing Record507of624|marquette\n",
      "Processing Record508of624|tabou\n",
      "Processing Record509of624|luena\n",
      "Processing Record510of624|umm lajj\n",
      "Processing Record511of624|angoram\n",
      "Processing Record512of624|mapiripan\n",
      "Processing Record513of624|wagar\n",
      "Processing Record514of624|almaznyy\n",
      "Processing Record515of624|necochea\n",
      "Processing Record516of624|ishigaki\n",
      "Processing Record517of624|phan thiet\n",
      "Processing Record518of624|sao gabriel da cachoeira\n",
      "Processing Record519of624|makakilo city\n",
      "Processing Record520of624|santiago\n",
      "Processing Record521of624|santo amaro da imperatriz\n",
      "Processing Record522of624|ambon\n",
      "Processing Record523of624|puerto ayacucho\n",
      "Processing Record524of624|bengkulu\n",
      "Processing Record525of624|karamken\n",
      "City not found. Skipping...\n",
      "Processing Record526of624|bay roberts\n",
      "Processing Record527of624|tilichiki\n",
      "Processing Record528of624|high rock\n",
      "Processing Record529of624|mayo\n",
      "Processing Record530of624|lufilufi\n",
      "Processing Record531of624|iracoubo\n",
      "Processing Record532of624|buala\n",
      "Processing Record533of624|hualmay\n",
      "Processing Record534of624|adrar\n",
      "Processing Record535of624|terrace\n",
      "Processing Record536of624|mishkino\n",
      "Processing Record537of624|sulangan\n",
      "Processing Record538of624|boffa\n",
      "Processing Record539of624|totness\n",
      "Processing Record540of624|dalneye konstantinovo\n",
      "City not found. Skipping...\n",
      "Processing Record541of624|caravelas\n",
      "Processing Record542of624|say\n",
      "Processing Record543of624|maues\n",
      "Processing Record544of624|kadykchan\n",
      "City not found. Skipping...\n",
      "Processing Record545of624|anori\n",
      "Processing Record546of624|devyatka\n",
      "City not found. Skipping...\n",
      "Processing Record547of624|mafinga\n",
      "Processing Record548of624|muisne\n",
      "Processing Record549of624|senanga\n",
      "Processing Record550of624|erenhot\n",
      "Processing Record551of624|kulevcha\n",
      "Processing Record552of624|petropavlovsk-kamchatskiy\n",
      "Processing Record553of624|filadelfia\n",
      "Processing Record554of624|muli\n",
      "Processing Record555of624|pahrump\n",
      "Processing Record556of624|manaus\n",
      "Processing Record557of624|borogontsy\n",
      "Processing Record558of624|atasu\n",
      "Processing Record559of624|matay\n",
      "Processing Record560of624|kulhudhuffushi\n",
      "Processing Record561of624|sur\n",
      "Processing Record562of624|sao benedito do rio preto\n",
      "Processing Record563of624|deputatskiy\n",
      "Processing Record564of624|bolungarvik\n",
      "City not found. Skipping...\n",
      "Processing Record565of624|breves\n",
      "Processing Record566of624|kristiansund\n",
      "Processing Record567of624|elesbao veloso\n",
      "Processing Record568of624|osoyoos\n",
      "Processing Record569of624|tocopilla\n",
      "Processing Record570of624|kardailovo\n",
      "Processing Record571of624|iralaya\n",
      "Processing Record572of624|posse\n",
      "Processing Record573of624|nea artaki\n",
      "Processing Record574of624|rungata\n",
      "City not found. Skipping...\n",
      "Processing Record575of624|ciras\n",
      "City not found. Skipping...\n",
      "Processing Record576of624|half moon bay\n",
      "Processing Record577of624|royal palm beach\n",
      "Processing Record578of624|port blair\n",
      "Processing Record579of624|viligili\n",
      "City not found. Skipping...\n",
      "Processing Record580of624|piney green\n",
      "Processing Record581of624|lorengau\n",
      "Processing Record582of624|pochutla\n",
      "Processing Record583of624|bara\n",
      "Processing Record584of624|severo-kurilsk\n",
      "Processing Record585of624|progreso\n",
      "Processing Record586of624|emboscada\n",
      "Processing Record587of624|muros\n",
      "Processing Record588of624|sangre grande\n",
      "Processing Record589of624|houma\n",
      "Processing Record590of624|evans\n",
      "Processing Record591of624|balykshi\n",
      "Processing Record592of624|san policarpo\n",
      "Processing Record593of624|sakaiminato\n",
      "Processing Record594of624|finschhafen\n",
      "Processing Record595of624|mendoza\n",
      "Processing Record596of624|malmesbury\n",
      "Processing Record597of624|baruun-urt\n",
      "Processing Record598of624|nemuro\n",
      "Processing Record599of624|klyuchevskiy\n",
      "Processing Record600of624|batemans bay\n",
      "Processing Record601of624|cay\n",
      "Processing Record602of624|floro\n",
      "Processing Record603of624|tautira\n",
      "Processing Record604of624|san borja\n",
      "Processing Record605of624|basco\n",
      "Processing Record606of624|esfarayen\n",
      "Processing Record607of624|goianesia\n",
      "Processing Record608of624|darnah\n",
      "Processing Record609of624|nyurba\n",
      "Processing Record610of624|cambridge\n",
      "Processing Record611of624|hay river\n",
      "Processing Record612of624|sumenep\n",
      "Processing Record613of624|margate\n",
      "Processing Record614of624|muravlenko\n",
      "Processing Record615of624|tuatapere\n",
      "Processing Record616of624|marv dasht\n",
      "City not found. Skipping...\n",
      "Processing Record617of624|druzhba\n",
      "Processing Record618of624|vilyuysk\n",
      "Processing Record619of624|ixtapa\n",
      "Processing Record620of624|vostok\n",
      "Processing Record621of624|ningbo\n",
      "Processing Record622of624|durban\n",
      "Processing Record623of624|schonebeck\n",
      "Processing Record624of624|martapura\n",
      "Data Retrieval Complete\n"
     ]
    }
   ],
   "source": [
    "# Get weather data\n",
    "url = \"http://api.openweathermap.org/data/2.5/weather?\"\n",
    "units = \"imperial\"\n",
    "count = 1\n",
    "cities_weather = []\n",
    "\n",
    "for city in cities:\n",
    "    final_url = f\"{url}&appid={weather_api_key}&q={city}&units={units}\"\n",
    "\n",
    "     # Increase counter by one \n",
    "    \n",
    "    print(\"Processing Record\"+str(count)+\"of\"+str(len(cities))+\"|\"+city)\n",
    "\n",
    "\n",
    "    \n",
    "\n",
    "    try:\n",
    "        response = requests.get(final_url).json()\n",
    "        cities_weather.append({'City':city,\n",
    "                               'Lat':response['coord']['lat'],\n",
    "                               'Lng':response['coord']['lon'],\n",
    "                               'Max Temp':response['main']['temp_max'],\n",
    "                               'Humidity':response['main']['humidity'],\n",
    "                               'Cloudiness':response['clouds']['all'],\n",
    "                               'Wind Speed':response['wind']['speed'],\n",
    "                               'Country':response['sys']['country'],\n",
    "                               'Date':response['dt']})\n",
    "    except:\n",
    "        print('City not found. Skipping...')\n",
    "        pass\n",
    "    count=count+1  \n",
    "    \n",
    "\n",
    "print('Data Retrieval Complete')      \n"
   ]
  },
  {
   "cell_type": "code",
   "execution_count": 6,
   "metadata": {},
   "outputs": [
    {
     "data": {
      "text/html": [
       "<div>\n",
       "<style scoped>\n",
       "    .dataframe tbody tr th:only-of-type {\n",
       "        vertical-align: middle;\n",
       "    }\n",
       "\n",
       "    .dataframe tbody tr th {\n",
       "        vertical-align: top;\n",
       "    }\n",
       "\n",
       "    .dataframe thead th {\n",
       "        text-align: right;\n",
       "    }\n",
       "</style>\n",
       "<table border=\"1\" class=\"dataframe\">\n",
       "  <thead>\n",
       "    <tr style=\"text-align: right;\">\n",
       "      <th></th>\n",
       "      <th>City</th>\n",
       "      <th>Lat</th>\n",
       "      <th>Lng</th>\n",
       "      <th>Max Temp</th>\n",
       "      <th>Humidity</th>\n",
       "      <th>Cloudiness</th>\n",
       "      <th>Wind Speed</th>\n",
       "      <th>Country</th>\n",
       "      <th>Date</th>\n",
       "    </tr>\n",
       "  </thead>\n",
       "  <tbody>\n",
       "    <tr>\n",
       "      <th>0</th>\n",
       "      <td>paita</td>\n",
       "      <td>-5.0892</td>\n",
       "      <td>-81.1144</td>\n",
       "      <td>66.76</td>\n",
       "      <td>80</td>\n",
       "      <td>36</td>\n",
       "      <td>11.83</td>\n",
       "      <td>PE</td>\n",
       "      <td>1624283497</td>\n",
       "    </tr>\n",
       "    <tr>\n",
       "      <th>1</th>\n",
       "      <td>pisco</td>\n",
       "      <td>-13.7000</td>\n",
       "      <td>-76.2167</td>\n",
       "      <td>64.45</td>\n",
       "      <td>77</td>\n",
       "      <td>90</td>\n",
       "      <td>4.61</td>\n",
       "      <td>PE</td>\n",
       "      <td>1624283499</td>\n",
       "    </tr>\n",
       "    <tr>\n",
       "      <th>2</th>\n",
       "      <td>punta arenas</td>\n",
       "      <td>-53.1500</td>\n",
       "      <td>-70.9167</td>\n",
       "      <td>41.11</td>\n",
       "      <td>75</td>\n",
       "      <td>75</td>\n",
       "      <td>14.97</td>\n",
       "      <td>CL</td>\n",
       "      <td>1624283207</td>\n",
       "    </tr>\n",
       "    <tr>\n",
       "      <th>3</th>\n",
       "      <td>ushuaia</td>\n",
       "      <td>-54.8000</td>\n",
       "      <td>-68.3000</td>\n",
       "      <td>49.66</td>\n",
       "      <td>53</td>\n",
       "      <td>40</td>\n",
       "      <td>5.75</td>\n",
       "      <td>AR</td>\n",
       "      <td>1624283328</td>\n",
       "    </tr>\n",
       "    <tr>\n",
       "      <th>4</th>\n",
       "      <td>husavik</td>\n",
       "      <td>66.0449</td>\n",
       "      <td>-17.3389</td>\n",
       "      <td>53.51</td>\n",
       "      <td>56</td>\n",
       "      <td>99</td>\n",
       "      <td>7.87</td>\n",
       "      <td>IS</td>\n",
       "      <td>1624283500</td>\n",
       "    </tr>\n",
       "  </tbody>\n",
       "</table>\n",
       "</div>"
      ],
      "text/plain": [
       "           City      Lat      Lng  Max Temp  Humidity  Cloudiness  Wind Speed  \\\n",
       "0         paita  -5.0892 -81.1144     66.76        80          36       11.83   \n",
       "1         pisco -13.7000 -76.2167     64.45        77          90        4.61   \n",
       "2  punta arenas -53.1500 -70.9167     41.11        75          75       14.97   \n",
       "3       ushuaia -54.8000 -68.3000     49.66        53          40        5.75   \n",
       "4       husavik  66.0449 -17.3389     53.51        56          99        7.87   \n",
       "\n",
       "  Country        Date  \n",
       "0      PE  1624283497  \n",
       "1      PE  1624283499  \n",
       "2      CL  1624283207  \n",
       "3      AR  1624283328  \n",
       "4      IS  1624283500  "
      ]
     },
     "execution_count": 6,
     "metadata": {},
     "output_type": "execute_result"
    }
   ],
   "source": [
    "cities_weather_df = pd.DataFrame(cities_weather)\n",
    "cities_weather_df.head()"
   ]
  },
  {
   "cell_type": "markdown",
   "metadata": {},
   "source": [
    "### Convert Raw Data to DataFrame\n",
    "* Export the city data into a .csv.\n",
    "* Display the DataFrame"
   ]
  },
  {
   "cell_type": "code",
   "execution_count": 7,
   "metadata": {},
   "outputs": [],
   "source": [
    "cities_weather_df.to_csv(output_data_file)"
   ]
  },
  {
   "cell_type": "code",
   "execution_count": 8,
   "metadata": {},
   "outputs": [
    {
     "data": {
      "text/html": [
       "<div>\n",
       "<style scoped>\n",
       "    .dataframe tbody tr th:only-of-type {\n",
       "        vertical-align: middle;\n",
       "    }\n",
       "\n",
       "    .dataframe tbody tr th {\n",
       "        vertical-align: top;\n",
       "    }\n",
       "\n",
       "    .dataframe thead th {\n",
       "        text-align: right;\n",
       "    }\n",
       "</style>\n",
       "<table border=\"1\" class=\"dataframe\">\n",
       "  <thead>\n",
       "    <tr style=\"text-align: right;\">\n",
       "      <th></th>\n",
       "      <th>Lat</th>\n",
       "      <th>Lng</th>\n",
       "      <th>Max Temp</th>\n",
       "      <th>Humidity</th>\n",
       "      <th>Cloudiness</th>\n",
       "      <th>Wind Speed</th>\n",
       "      <th>Date</th>\n",
       "    </tr>\n",
       "  </thead>\n",
       "  <tbody>\n",
       "    <tr>\n",
       "      <th>count</th>\n",
       "      <td>563.000000</td>\n",
       "      <td>563.000000</td>\n",
       "      <td>563.000000</td>\n",
       "      <td>563.000000</td>\n",
       "      <td>563.000000</td>\n",
       "      <td>563.000000</td>\n",
       "      <td>5.630000e+02</td>\n",
       "    </tr>\n",
       "    <tr>\n",
       "      <th>mean</th>\n",
       "      <td>20.425460</td>\n",
       "      <td>17.644255</td>\n",
       "      <td>70.694565</td>\n",
       "      <td>66.033748</td>\n",
       "      <td>56.573712</td>\n",
       "      <td>8.048455</td>\n",
       "      <td>1.624284e+09</td>\n",
       "    </tr>\n",
       "    <tr>\n",
       "      <th>std</th>\n",
       "      <td>33.429304</td>\n",
       "      <td>90.591251</td>\n",
       "      <td>15.770725</td>\n",
       "      <td>22.842193</td>\n",
       "      <td>38.809960</td>\n",
       "      <td>5.597009</td>\n",
       "      <td>1.388113e+02</td>\n",
       "    </tr>\n",
       "    <tr>\n",
       "      <th>min</th>\n",
       "      <td>-54.800000</td>\n",
       "      <td>-175.200000</td>\n",
       "      <td>33.550000</td>\n",
       "      <td>4.000000</td>\n",
       "      <td>0.000000</td>\n",
       "      <td>0.000000</td>\n",
       "      <td>1.624283e+09</td>\n",
       "    </tr>\n",
       "    <tr>\n",
       "      <th>25%</th>\n",
       "      <td>-8.054050</td>\n",
       "      <td>-63.984350</td>\n",
       "      <td>57.720000</td>\n",
       "      <td>53.000000</td>\n",
       "      <td>14.500000</td>\n",
       "      <td>3.760000</td>\n",
       "      <td>1.624284e+09</td>\n",
       "    </tr>\n",
       "    <tr>\n",
       "      <th>50%</th>\n",
       "      <td>24.687700</td>\n",
       "      <td>20.866700</td>\n",
       "      <td>73.420000</td>\n",
       "      <td>72.000000</td>\n",
       "      <td>71.000000</td>\n",
       "      <td>7.000000</td>\n",
       "      <td>1.624284e+09</td>\n",
       "    </tr>\n",
       "    <tr>\n",
       "      <th>75%</th>\n",
       "      <td>49.164000</td>\n",
       "      <td>102.518550</td>\n",
       "      <td>82.140000</td>\n",
       "      <td>83.000000</td>\n",
       "      <td>95.000000</td>\n",
       "      <td>11.600000</td>\n",
       "      <td>1.624284e+09</td>\n",
       "    </tr>\n",
       "    <tr>\n",
       "      <th>max</th>\n",
       "      <td>78.218600</td>\n",
       "      <td>179.316700</td>\n",
       "      <td>113.560000</td>\n",
       "      <td>100.000000</td>\n",
       "      <td>100.000000</td>\n",
       "      <td>30.600000</td>\n",
       "      <td>1.624284e+09</td>\n",
       "    </tr>\n",
       "  </tbody>\n",
       "</table>\n",
       "</div>"
      ],
      "text/plain": [
       "              Lat         Lng    Max Temp    Humidity  Cloudiness  Wind Speed  \\\n",
       "count  563.000000  563.000000  563.000000  563.000000  563.000000  563.000000   \n",
       "mean    20.425460   17.644255   70.694565   66.033748   56.573712    8.048455   \n",
       "std     33.429304   90.591251   15.770725   22.842193   38.809960    5.597009   \n",
       "min    -54.800000 -175.200000   33.550000    4.000000    0.000000    0.000000   \n",
       "25%     -8.054050  -63.984350   57.720000   53.000000   14.500000    3.760000   \n",
       "50%     24.687700   20.866700   73.420000   72.000000   71.000000    7.000000   \n",
       "75%     49.164000  102.518550   82.140000   83.000000   95.000000   11.600000   \n",
       "max     78.218600  179.316700  113.560000  100.000000  100.000000   30.600000   \n",
       "\n",
       "               Date  \n",
       "count  5.630000e+02  \n",
       "mean   1.624284e+09  \n",
       "std    1.388113e+02  \n",
       "min    1.624283e+09  \n",
       "25%    1.624284e+09  \n",
       "50%    1.624284e+09  \n",
       "75%    1.624284e+09  \n",
       "max    1.624284e+09  "
      ]
     },
     "execution_count": 8,
     "metadata": {},
     "output_type": "execute_result"
    }
   ],
   "source": [
    "cities_weather_df.describe()"
   ]
  },
  {
   "cell_type": "code",
   "execution_count": 9,
   "metadata": {},
   "outputs": [
    {
     "data": {
      "text/html": [
       "<div>\n",
       "<style scoped>\n",
       "    .dataframe tbody tr th:only-of-type {\n",
       "        vertical-align: middle;\n",
       "    }\n",
       "\n",
       "    .dataframe tbody tr th {\n",
       "        vertical-align: top;\n",
       "    }\n",
       "\n",
       "    .dataframe thead th {\n",
       "        text-align: right;\n",
       "    }\n",
       "</style>\n",
       "<table border=\"1\" class=\"dataframe\">\n",
       "  <thead>\n",
       "    <tr style=\"text-align: right;\">\n",
       "      <th></th>\n",
       "      <th>City</th>\n",
       "      <th>Lat</th>\n",
       "      <th>Lng</th>\n",
       "      <th>Max Temp</th>\n",
       "      <th>Humidity</th>\n",
       "      <th>Cloudiness</th>\n",
       "      <th>Wind Speed</th>\n",
       "      <th>Country</th>\n",
       "      <th>Date</th>\n",
       "    </tr>\n",
       "  </thead>\n",
       "  <tbody>\n",
       "    <tr>\n",
       "      <th>0</th>\n",
       "      <td>paita</td>\n",
       "      <td>-5.0892</td>\n",
       "      <td>-81.1144</td>\n",
       "      <td>66.76</td>\n",
       "      <td>80</td>\n",
       "      <td>36</td>\n",
       "      <td>11.83</td>\n",
       "      <td>PE</td>\n",
       "      <td>1624283497</td>\n",
       "    </tr>\n",
       "    <tr>\n",
       "      <th>1</th>\n",
       "      <td>pisco</td>\n",
       "      <td>-13.7000</td>\n",
       "      <td>-76.2167</td>\n",
       "      <td>64.45</td>\n",
       "      <td>77</td>\n",
       "      <td>90</td>\n",
       "      <td>4.61</td>\n",
       "      <td>PE</td>\n",
       "      <td>1624283499</td>\n",
       "    </tr>\n",
       "    <tr>\n",
       "      <th>2</th>\n",
       "      <td>punta arenas</td>\n",
       "      <td>-53.1500</td>\n",
       "      <td>-70.9167</td>\n",
       "      <td>41.11</td>\n",
       "      <td>75</td>\n",
       "      <td>75</td>\n",
       "      <td>14.97</td>\n",
       "      <td>CL</td>\n",
       "      <td>1624283207</td>\n",
       "    </tr>\n",
       "    <tr>\n",
       "      <th>3</th>\n",
       "      <td>ushuaia</td>\n",
       "      <td>-54.8000</td>\n",
       "      <td>-68.3000</td>\n",
       "      <td>49.66</td>\n",
       "      <td>53</td>\n",
       "      <td>40</td>\n",
       "      <td>5.75</td>\n",
       "      <td>AR</td>\n",
       "      <td>1624283328</td>\n",
       "    </tr>\n",
       "    <tr>\n",
       "      <th>4</th>\n",
       "      <td>husavik</td>\n",
       "      <td>66.0449</td>\n",
       "      <td>-17.3389</td>\n",
       "      <td>53.51</td>\n",
       "      <td>56</td>\n",
       "      <td>99</td>\n",
       "      <td>7.87</td>\n",
       "      <td>IS</td>\n",
       "      <td>1624283500</td>\n",
       "    </tr>\n",
       "  </tbody>\n",
       "</table>\n",
       "</div>"
      ],
      "text/plain": [
       "           City      Lat      Lng  Max Temp  Humidity  Cloudiness  Wind Speed  \\\n",
       "0         paita  -5.0892 -81.1144     66.76        80          36       11.83   \n",
       "1         pisco -13.7000 -76.2167     64.45        77          90        4.61   \n",
       "2  punta arenas -53.1500 -70.9167     41.11        75          75       14.97   \n",
       "3       ushuaia -54.8000 -68.3000     49.66        53          40        5.75   \n",
       "4       husavik  66.0449 -17.3389     53.51        56          99        7.87   \n",
       "\n",
       "  Country        Date  \n",
       "0      PE  1624283497  \n",
       "1      PE  1624283499  \n",
       "2      CL  1624283207  \n",
       "3      AR  1624283328  \n",
       "4      IS  1624283500  "
      ]
     },
     "execution_count": 9,
     "metadata": {},
     "output_type": "execute_result"
    }
   ],
   "source": [
    "cities_weather_df.head()"
   ]
  },
  {
   "cell_type": "markdown",
   "metadata": {},
   "source": [
    "## Inspect the data and remove the cities where the humidity > 100%.\n",
    "----\n",
    "Skip this step if there are no cities that have humidity > 100%. "
   ]
  },
  {
   "cell_type": "code",
   "execution_count": 10,
   "metadata": {},
   "outputs": [
    {
     "data": {
      "text/plain": [
       "array([ 80,  77,  75,  53,  56,  76,  82,  62,  89,  19,  29,  86,  59,\n",
       "        63,  49,  68,  10,  79,  87,  96,  84,   6,  57,  58,  93,  91,\n",
       "        46,  47,  60,  83,  52,  88,  54, 100,  73,  72,  64,  15,  78,\n",
       "        42,  66,  81,  74,  45,  41,  85,  48,  95,  61,  98,  71,  94,\n",
       "        16,  65,  69,  17,  31,  38,  55,  70,  51,  13,  90,  32,  34,\n",
       "        40,  44,  97,  27,  28,  26,  20,  92,  14,  50,  25,  35,   9,\n",
       "        43,  67,  33,  24,  18,  36,  30,   5,  11,  22,   4,  23,  21,\n",
       "        39,  99,  37], dtype=int64)"
      ]
     },
     "execution_count": 10,
     "metadata": {},
     "output_type": "execute_result"
    }
   ],
   "source": [
    "cities_weather_df['Humidity'].unique()"
   ]
  },
  {
   "cell_type": "code",
   "execution_count": 17,
   "metadata": {},
   "outputs": [
    {
     "data": {
      "text/plain": [
       "Int64Index([], dtype='int64')"
      ]
     },
     "execution_count": 17,
     "metadata": {},
     "output_type": "execute_result"
    }
   ],
   "source": [
    "#  Get the indices of cities that have humidity over 100%.\n",
    "\n",
    "#seems no city have humidity over100%"
   ]
  },
  {
   "cell_type": "code",
   "execution_count": 19,
   "metadata": {},
   "outputs": [
    {
     "data": {
      "text/html": [
       "<div>\n",
       "<style scoped>\n",
       "    .dataframe tbody tr th:only-of-type {\n",
       "        vertical-align: middle;\n",
       "    }\n",
       "\n",
       "    .dataframe tbody tr th {\n",
       "        vertical-align: top;\n",
       "    }\n",
       "\n",
       "    .dataframe thead th {\n",
       "        text-align: right;\n",
       "    }\n",
       "</style>\n",
       "<table border=\"1\" class=\"dataframe\">\n",
       "  <thead>\n",
       "    <tr style=\"text-align: right;\">\n",
       "      <th></th>\n",
       "      <th>City</th>\n",
       "      <th>Lat</th>\n",
       "      <th>Lng</th>\n",
       "      <th>Max Temp</th>\n",
       "      <th>Humidity</th>\n",
       "      <th>Cloudiness</th>\n",
       "      <th>Wind Speed</th>\n",
       "      <th>Country</th>\n",
       "      <th>Date</th>\n",
       "    </tr>\n",
       "  </thead>\n",
       "  <tbody>\n",
       "    <tr>\n",
       "      <td>0</td>\n",
       "      <td>butaritari</td>\n",
       "      <td>3.07</td>\n",
       "      <td>172.79</td>\n",
       "      <td>83.32</td>\n",
       "      <td>74</td>\n",
       "      <td>84</td>\n",
       "      <td>10.42</td>\n",
       "      <td>KI</td>\n",
       "      <td>1593605283</td>\n",
       "    </tr>\n",
       "    <tr>\n",
       "      <td>1</td>\n",
       "      <td>yerbogachen</td>\n",
       "      <td>61.28</td>\n",
       "      <td>108.01</td>\n",
       "      <td>79.52</td>\n",
       "      <td>58</td>\n",
       "      <td>20</td>\n",
       "      <td>7.70</td>\n",
       "      <td>RU</td>\n",
       "      <td>1593605121</td>\n",
       "    </tr>\n",
       "    <tr>\n",
       "      <td>2</td>\n",
       "      <td>cape town</td>\n",
       "      <td>-33.93</td>\n",
       "      <td>18.42</td>\n",
       "      <td>73.00</td>\n",
       "      <td>77</td>\n",
       "      <td>27</td>\n",
       "      <td>4.70</td>\n",
       "      <td>ZA</td>\n",
       "      <td>1593605039</td>\n",
       "    </tr>\n",
       "    <tr>\n",
       "      <td>3</td>\n",
       "      <td>touba</td>\n",
       "      <td>8.28</td>\n",
       "      <td>-7.68</td>\n",
       "      <td>79.97</td>\n",
       "      <td>75</td>\n",
       "      <td>82</td>\n",
       "      <td>3.58</td>\n",
       "      <td>CI</td>\n",
       "      <td>1593605284</td>\n",
       "    </tr>\n",
       "    <tr>\n",
       "      <td>4</td>\n",
       "      <td>jamestown</td>\n",
       "      <td>42.10</td>\n",
       "      <td>-79.24</td>\n",
       "      <td>64.00</td>\n",
       "      <td>88</td>\n",
       "      <td>1</td>\n",
       "      <td>6.93</td>\n",
       "      <td>US</td>\n",
       "      <td>1593605284</td>\n",
       "    </tr>\n",
       "  </tbody>\n",
       "</table>\n",
       "</div>"
      ],
      "text/plain": [
       "          City    Lat     Lng  Max Temp  Humidity  Cloudiness  Wind Speed  \\\n",
       "0   butaritari   3.07  172.79     83.32        74          84       10.42   \n",
       "1  yerbogachen  61.28  108.01     79.52        58          20        7.70   \n",
       "2    cape town -33.93   18.42     73.00        77          27        4.70   \n",
       "3        touba   8.28   -7.68     79.97        75          82        3.58   \n",
       "4    jamestown  42.10  -79.24     64.00        88           1        6.93   \n",
       "\n",
       "  Country        Date  \n",
       "0      KI  1593605283  \n",
       "1      RU  1593605121  \n",
       "2      ZA  1593605039  \n",
       "3      CI  1593605284  \n",
       "4      US  1593605284  "
      ]
     },
     "execution_count": 19,
     "metadata": {},
     "output_type": "execute_result"
    }
   ],
   "source": [
    "# Make a new DataFrame equal to the city data to drop all humidity outliers by index.\n",
    "# Passing \"inplace=False\" will make a copy of the city_data DataFrame, which we call \"clean_city_data\".\n"
   ]
  },
  {
   "cell_type": "code",
   "execution_count": null,
   "metadata": {},
   "outputs": [],
   "source": [
    "\n"
   ]
  },
  {
   "cell_type": "markdown",
   "metadata": {},
   "source": [
    "## Plotting the Data\n",
    "* Use proper labeling of the plots using plot titles (including date of analysis) and axes labels.\n",
    "* Save the plotted figures as .pngs."
   ]
  },
  {
   "cell_type": "markdown",
   "metadata": {},
   "source": [
    "## Latitude vs. Temperature Plot"
   ]
  },
  {
   "cell_type": "code",
   "execution_count": 11,
   "metadata": {
    "scrolled": true
   },
   "outputs": [
    {
     "data": {
      "image/png": "[encoded data removed]",
      "text/plain": [
       "<Figure size 432x288 with 1 Axes>"
      ]
     },
     "metadata": {
      "needs_background": "light"
     },
     "output_type": "display_data"
    }
   ],
   "source": [
    "# Latitude vs. Temperature Plot\n",
    "plt.scatter(cities_weather_df['Lat'],cities_weather_df['Max Temp'],facecolors = \"blue\", edgecolors =\"black\", marker =\"o\")\n",
    "plt.title(f'City Latitude vs. Max Temperature ({time.strftime(\"%m/%d/%Y\")})')\n",
    "plt.xlabel(\"Latitude\")\n",
    "plt.ylabel(\"Temperature (F)\")\n",
    "plt.grid(linestyle='-', linewidth=1, alpha = 0.5)\n",
    "# Save fig\n",
    "plt.savefig(\"output_data/City_Latitude_vs_Temperature.png\")\n",
    "\n",
    "plt.show()"
   ]
  },
  {
   "cell_type": "markdown",
   "metadata": {},
   "source": [
    "## Latitude vs. Humidity Plot"
   ]
  },
  {
   "cell_type": "code",
   "execution_count": 12,
   "metadata": {},
   "outputs": [
    {
     "data": {
      "image/png": "[encoded data removed]",
      "text/plain": [
       "<Figure size 432x288 with 1 Axes>"
      ]
     },
     "metadata": {
      "needs_background": "light"
     },
     "output_type": "display_data"
    }
   ],
   "source": [
    "# Latitude vs. Humidity Plot\n",
    "plt.scatter(cities_weather_df[\"Lat\"],cities_weather_df[\"Humidity\"],facecolors = \"yellow\", edgecolors =\"black\",marker =\"o\")\n",
    "plt.title(f'City Latitude vs. Humidity ({time.strftime(\"%m/%d/%Y\")})')\n",
    "plt.xlabel(\"Latitude\")\n",
    "plt.ylabel(\"Humidity (%)\")\n",
    "plt.grid(linestyle='-', linewidth=1, alpha = 0.5)\n",
    "# Save fig\n",
    "plt.savefig(\"output_data/City_Latitude_vs_Humidity.png\")\n",
    "\n",
    "plt.show()"
   ]
  },
  {
   "cell_type": "markdown",
   "metadata": {},
   "source": [
    "## Latitude vs. Cloudiness Plot"
   ]
  },
  {
   "cell_type": "code",
   "execution_count": 13,
   "metadata": {},
   "outputs": [
    {
     "data": {
      "image/png": "[encoded data removed]",
      "text/plain": [
       "<Figure size 432x288 with 1 Axes>"
      ]
     },
     "metadata": {
      "needs_background": "light"
     },
     "output_type": "display_data"
    }
   ],
   "source": [
    "# Latitude vs. Cloudiness Plot\n",
    "plt.scatter(cities_weather_df['Lat'],cities_weather_df['Cloudiness'],facecolors = \"red\", edgecolors =\"black\", marker =\"o\")\n",
    "plt.title(f'City Latitude vs. Cloudiness ({time.strftime(\"%m/%d/%Y\")})')\n",
    "plt.xlabel(\"Latitude\")\n",
    "plt.ylabel(\"Cloudiness (%)\")\n",
    "plt.grid(linestyle='-', linewidth=1, alpha = 0.5)\n",
    "\n",
    "# Save fig\n",
    "plt.savefig(\"output_data/City_Latitude_vs_Cloudiness.png\")\n",
    "\n",
    "plt.show()"
   ]
  },
  {
   "cell_type": "markdown",
   "metadata": {},
   "source": [
    "## Latitude vs. Wind Speed Plot"
   ]
  },
  {
   "cell_type": "code",
   "execution_count": 14,
   "metadata": {},
   "outputs": [
    {
     "data": {
      "image/png": "[encoded data removed]",
      "text/plain": [
       "<Figure size 432x288 with 1 Axes>"
      ]
     },
     "metadata": {
      "needs_background": "light"
     },
     "output_type": "display_data"
    }
   ],
   "source": [
    "# Latitude vs. Wind Speed Scatter Plot \n",
    "plt.scatter(cities_weather_df[\"Lat\"],cities_weather_df[\"Wind Speed\"],facecolors = \"green\", edgecolors =\"black\", marker =\"o\")\n",
    "plt.title(f'City Latitude vs. Wind Speed ({time.strftime(\"%m/%d/%Y\")})')\n",
    "plt.xlabel(\"Latitude\")\n",
    "plt.ylabel(\"Cloudiness (%)\")\n",
    "plt.grid(linestyle='-', linewidth=1, alpha = 0.5)\n",
    "\n",
    "# Save fig\n",
    "plt.savefig(\"output_data/City_Latitude_vs_WindSpeed.png\")\n",
    "\n",
    "plt.show()"
   ]
  },
  {
   "cell_type": "markdown",
   "metadata": {},
   "source": [
    "## Linear Regression"
   ]
  },
  {
   "cell_type": "code",
   "execution_count": 15,
   "metadata": {},
   "outputs": [],
   "source": [
    "# define a function called plot_linregress\n",
    "def plot_linregress(X, y, title):\n",
    "    print(f\"The r-squared is: {round(st.pearsonr(X, y)[0],2)}\")\n",
    "    (slope, intercept, rvalue, pvalue, stderr) = linregress(X, y)\n",
    "    regress_values = X * slope + intercept\n",
    "    line_eq = \"y = \" + str(round(slope,2)) + \"X + \" + str(round(intercept,2))\n",
    "    plt.scatter(X, y)\n",
    "    plt.plot(X,regress_values,\"r-\")\n",
    "    plt.title(title + '\\n' + line_eq)\n",
    "    plt.xlabel(X.name)\n",
    "    plt.ylabel(y.name)"
   ]
  },
  {
   "cell_type": "markdown",
   "metadata": {},
   "source": [
    "####  Northern Hemisphere - Max Temp vs. Latitude Linear Regression"
   ]
  },
  {
   "cell_type": "code",
   "execution_count": 16,
   "metadata": {},
   "outputs": [
    {
     "name": "stdout",
     "output_type": "stream",
     "text": [
      "The r-squared is: -0.65\n"
     ]
    },
    {
     "data": {
      "image/png": "[encoded data removed]",
      "text/plain": [
       "<Figure size 432x288 with 1 Axes>"
      ]
     },
     "metadata": {
      "needs_background": "light"
     },
     "output_type": "display_data"
    }
   ],
   "source": [
    "# Create Northern DataFrames\n",
    "northern_hemisphere_df = cities_weather_df.loc[cities_weather_df['Lat'] >= 0]\n",
    "# Northern Hemisphere - Max Temp vs. Latitude Linear Regression\n",
    "plot_linregress(northern_hemisphere_df['Lat'], northern_hemisphere_df['Max Temp'], 'Northern Hemisphere - Max Temp vs. Latitude Linear Regression')\n",
    "# from the linear regression we can find that Max Temp and Latitude are somehow related in northern hemisphere.\n",
    "plt.savefig(\"output_data/Northern Hemisphere - Max Temp vs. Latitude Linear Regression.png\")"
   ]
  },
  {
   "cell_type": "markdown",
   "metadata": {},
   "source": [
    "####  Southern Hemisphere - Max Temp vs. Latitude Linear Regression"
   ]
  },
  {
   "cell_type": "code",
   "execution_count": 17,
   "metadata": {},
   "outputs": [
    {
     "name": "stdout",
     "output_type": "stream",
     "text": [
      "The r-squared is: 0.74\n"
     ]
    },
    {
     "data": {
      "image/png": "[encoded data removed]",
      "text/plain": [
       "<Figure size 432x288 with 1 Axes>"
      ]
     },
     "metadata": {
      "needs_background": "light"
     },
     "output_type": "display_data"
    }
   ],
   "source": [
    "# Create Sourthern DataFrames\n",
    "southern_hemisphere_df = cities_weather_df.loc[cities_weather_df['Lat'] < 0]\n",
    "\n",
    "# Southern Hemisphere - Max Temp vs. Latitude Linear Regression\n",
    "\n",
    "plot_linregress(southern_hemisphere_df['Lat'], southern_hemisphere_df['Max Temp'], 'Southern Hemisphere -Max Temp vs. Latitude Linear Regression')\n",
    "# from the linear regression we can find that Max Temp and Latitude are highly related in southern hemisphere.\n",
    "plt.savefig(\"output_data/Southern Hemisphere - Max Temp vs. Latitude Linear Regression.png\")"
   ]
  },
  {
   "cell_type": "markdown",
   "metadata": {},
   "source": [
    "####  Northern Hemisphere - Humidity (%) vs. Latitude Linear Regression"
   ]
  },
  {
   "cell_type": "code",
   "execution_count": 18,
   "metadata": {},
   "outputs": [
    {
     "name": "stdout",
     "output_type": "stream",
     "text": [
      "The r-squared is: 0.02\n"
     ]
    },
    {
     "data": {
      "image/png": "[encoded data removed]",
      "text/plain": [
       "<Figure size 432x288 with 1 Axes>"
      ]
     },
     "metadata": {
      "needs_background": "light"
     },
     "output_type": "display_data"
    }
   ],
   "source": [
    "# Northern Hemisphere - Humidity (%) vs. Latitude Linear Regression\n",
    "plot_linregress(northern_hemisphere_df['Lat'], northern_hemisphere_df['Humidity'], 'Northern Hemisphere - Humidity (%) vs. Latitude Linear Regression')\n",
    "# from the linear regression we can find that humidity and latitude do not have good linear coorelation in northern hemisphere.\n",
    "plt.savefig(\"output_data/Northern Hemisphere - Humidity (%) vs. Latitude Linear Regression.png\")"
   ]
  },
  {
   "cell_type": "markdown",
   "metadata": {},
   "source": [
    "####  Southern Hemisphere - Humidity (%) vs. Latitude Linear Regression"
   ]
  },
  {
   "cell_type": "code",
   "execution_count": 19,
   "metadata": {},
   "outputs": [
    {
     "name": "stdout",
     "output_type": "stream",
     "text": [
      "The r-squared is: 0.06\n"
     ]
    },
    {
     "data": {
      "image/png": "[encoded data removed]",
      "text/plain": [
       "<Figure size 432x288 with 1 Axes>"
      ]
     },
     "metadata": {
      "needs_background": "light"
     },
     "output_type": "display_data"
    }
   ],
   "source": [
    "# Southern Hemisphere - Humidity (%) vs. Latitude Linear Regression\n",
    "plot_linregress(southern_hemisphere_df['Lat'], southern_hemisphere_df['Humidity'], 'Southern Hemisphere - Humidity (%) vs. Latitude Linear Regression')\n",
    "# from the linear regression we can find that humidity and latitude do not have good linear coorelation in southern hemisphere.\n",
    "plt.savefig(\"output_data/Southern Hemisphere - Humidity (%) vs. Latitude Linear Regression.png\")"
   ]
  },
  {
   "cell_type": "markdown",
   "metadata": {},
   "source": [
    "####  Northern Hemisphere - Cloudiness (%) vs. Latitude Linear Regression"
   ]
  },
  {
   "cell_type": "code",
   "execution_count": 20,
   "metadata": {},
   "outputs": [
    {
     "name": "stdout",
     "output_type": "stream",
     "text": [
      "The r-squared is: -0.04\n"
     ]
    },
    {
     "data": {
      "image/png": "[encoded data removed]",
      "text/plain": [
       "<Figure size 432x288 with 1 Axes>"
      ]
     },
     "metadata": {
      "needs_background": "light"
     },
     "output_type": "display_data"
    }
   ],
   "source": [
    "# Northern Hemisphere - Cloudiness (%) vs. Latitude Linear Regression\n",
    "\n",
    "plot_linregress(northern_hemisphere_df['Lat'], northern_hemisphere_df['Cloudiness'], 'Northern Hemisphere - Cloudiness (%) vs. Latitude Linear Regression')\n",
    "# from the linear regression we can find that cloudness and latitude do not have good linear coorelation in northern hemisphere.\n",
    "plt.savefig(\"output_data/Northern Hemisphere - Cloudiness (%) vs. Latitude Linear Regression.png\")"
   ]
  },
  {
   "cell_type": "markdown",
   "metadata": {},
   "source": [
    "####  Southern Hemisphere - Cloudiness (%) vs. Latitude Linear Regression"
   ]
  },
  {
   "cell_type": "code",
   "execution_count": 21,
   "metadata": {},
   "outputs": [
    {
     "name": "stdout",
     "output_type": "stream",
     "text": [
      "The r-squared is: 0.07\n"
     ]
    },
    {
     "data": {
      "image/png": "[encoded data removed]",
      "text/plain": [
       "<Figure size 432x288 with 1 Axes>"
      ]
     },
     "metadata": {
      "needs_background": "light"
     },
     "output_type": "display_data"
    }
   ],
   "source": [
    "# Southern Hemisphere - Cloudiness (%) vs. Latitude Linear Regression\n",
    "plot_linregress(southern_hemisphere_df['Lat'], southern_hemisphere_df['Cloudiness'], 'Southern Hemisphere - Cloudiness (%) vs. Latitude Linear Regression')\n",
    "# from the linear regression we can find that cloudness and latitude do not have good linear coorelation in southern hemisphere.\n",
    "plt.savefig(\"output_data/Southern Hemisphere - Cloudiness (%) vs. Latitude Linear Regression.png\")"
   ]
  },
  {
   "cell_type": "markdown",
   "metadata": {},
   "source": [
    "####  Northern Hemisphere - Wind Speed (mph) vs. Latitude Linear Regression"
   ]
  },
  {
   "cell_type": "code",
   "execution_count": 22,
   "metadata": {},
   "outputs": [
    {
     "name": "stdout",
     "output_type": "stream",
     "text": [
      "The r-squared is: -0.0\n"
     ]
    },
    {
     "data": {
      "image/png": "[encoded data removed]",
      "text/plain": [
       "<Figure size 432x288 with 1 Axes>"
      ]
     },
     "metadata": {
      "needs_background": "light"
     },
     "output_type": "display_data"
    }
   ],
   "source": [
    "# Northern Hemisphere - Wind Speed (mph) vs. Latitude Linear Regression\n",
    "plot_linregress(northern_hemisphere_df['Lat'], northern_hemisphere_df['Wind Speed'], 'Northern Hemisphere - Wind Speed (mph) vs. Latitude Linear Regression')\n",
    "# from the linear regression we can find that wind speen and latitude do not have good linear coorelation in northern hemisphere.\n",
    "plt.savefig(\"output_data/Northern Hemisphere - Wind Speed (mph) vs. Latitude Linear Regression.png\")"
   ]
  },
  {
   "cell_type": "markdown",
   "metadata": {},
   "source": [
    "####  Southern Hemisphere - Wind Speed (mph) vs. Latitude Linear Regression"
   ]
  },
  {
   "cell_type": "code",
   "execution_count": 23,
   "metadata": {},
   "outputs": [
    {
     "name": "stdout",
     "output_type": "stream",
     "text": [
      "The r-squared is: -0.26\n"
     ]
    },
    {
     "data": {
      "image/png": "[encoded data removed]",
      "text/plain": [
       "<Figure size 432x288 with 1 Axes>"
      ]
     },
     "metadata": {
      "needs_background": "light"
     },
     "output_type": "display_data"
    }
   ],
   "source": [
    "# Southern Hemisphere - Wind Speed (mph) vs. Latitude Linear Regression\n",
    "plot_linregress(southern_hemisphere_df['Lat'], southern_hemisphere_df['Wind Speed'], 'Southern Hemisphere - Wind Speed (mph) vs. Latitude Linear Regression')\n",
    "# from the linear regression we can find that windspeed and latitude do not have good linear coorelation in southern hemisphere.\n",
    "plt.savefig(\"output_data/Southern Hemisphere - Wind Speed (mph) vs. Latitude Linear Regression.png\")"
   ]
  },
  {
   "cell_type": "code",
   "execution_count": null,
   "metadata": {},
   "outputs": [],
   "source": []
  }
 ],
 "metadata": {
  "anaconda-cloud": {},
  "kernel_info": {
   "name": "python3"
  },
  "kernelspec": {
   "display_name": "PythonData",
   "language": "python",
   "name": "pythondata"
  },
  "language_info": {
   "codemirror_mode": {
    "name": "ipython",
    "version": 3
   },
   "file_extension": ".py",
   "mimetype": "text/x-python",
   "name": "python",
   "nbconvert_exporter": "python",
   "pygments_lexer": "ipython3",
   "version": "3.8.5"
  },
  "latex_envs": {
   "LaTeX_envs_menu_present": true,
   "autoclose": false,
   "autocomplete": true,
   "bibliofile": "biblio.bib",
   "cite_by": "apalike",
   "current_citInitial": 1,
   "eqLabelWithNumbers": true,
   "eqNumInitial": 1,
   "hotkeys": {
    "equation": "Ctrl-E",
    "itemize": "Ctrl-I"
   },
   "labels_anchors": false,
   "latex_user_defs": false,
   "report_style_numbering": false,
   "user_envs_cfg": false
  },
  "nteract": {
   "version": "0.12.3"
  }
 },
 "nbformat": 4,
 "nbformat_minor": 4
}
